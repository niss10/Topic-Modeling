{
 "cells": [
  {
   "cell_type": "code",
   "execution_count": 1,
   "metadata": {},
   "outputs": [],
   "source": [
    "import nltk;"
   ]
  },
  {
   "cell_type": "code",
   "execution_count": 3,
   "metadata": {},
   "outputs": [
    {
     "name": "stderr",
     "output_type": "stream",
     "text": [
      "[nltk_data] Downloading package stopwords to\n",
      "[nltk_data]     C:\\Users\\erdsp\\AppData\\Roaming\\nltk_data...\n",
      "[nltk_data]   Unzipping corpora\\stopwords.zip.\n"
     ]
    },
    {
     "data": {
      "text/plain": [
       "True"
      ]
     },
     "execution_count": 3,
     "metadata": {},
     "output_type": "execute_result"
    }
   ],
   "source": [
    "nltk.download('stopwords')"
   ]
  },
  {
   "cell_type": "code",
   "execution_count": 5,
   "metadata": {},
   "outputs": [
    {
     "ename": "SyntaxError",
     "evalue": "invalid syntax (<ipython-input-5-fc4d5d118d23>, line 1)",
     "output_type": "error",
     "traceback": [
      "\u001b[1;36m  File \u001b[1;32m\"<ipython-input-5-fc4d5d118d23>\"\u001b[1;36m, line \u001b[1;32m1\u001b[0m\n\u001b[1;33m    python -m spacy download en\u001b[0m\n\u001b[1;37m                  ^\u001b[0m\n\u001b[1;31mSyntaxError\u001b[0m\u001b[1;31m:\u001b[0m invalid syntax\n"
     ]
    }
   ],
   "source": [
    "python -m spacy download en"
   ]
  },
  {
   "cell_type": "code",
   "execution_count": 11,
   "metadata": {},
   "outputs": [],
   "source": [
    "import re\n",
    "import numpy as np\n",
    "import pandas as pd\n",
    "from pprint import pprint\n",
    "\n",
    "# Gensim\n",
    "import gensim\n",
    "import gensim.corpora as corpora\n",
    "from gensim.utils import simple_preprocess\n",
    "from gensim.models import CoherenceModel\n",
    "\n",
    "# spacy for lemmatization\n",
    "import spacy\n",
    "\n",
    "# Plotting tools\n",
    "import pyLDAvis\n",
    "import pyLDAvis.gensim  # don't skip this\n",
    "import matplotlib.pyplot as plt\n",
    "%matplotlib inline\n",
    "\n",
    "# Enable logging for gensim - optional\n",
    "import logging\n",
    "logging.basicConfig(format='%(asctime)s : %(levelname)s : %(message)s', level=logging.ERROR)\n",
    "\n",
    "import warnings\n",
    "warnings.filterwarnings(\"ignore\",category=DeprecationWarning)"
   ]
  },
  {
   "cell_type": "code",
   "execution_count": 12,
   "metadata": {},
   "outputs": [],
   "source": [
    "# NLTK Stop words\n",
    "from nltk.corpus import stopwords\n",
    "stop_words = stopwords.words('english')\n",
    "stop_words.extend(['from', 'subject', 're', 'edu', 'use'])"
   ]
  },
  {
   "cell_type": "code",
   "execution_count": 13,
   "metadata": {},
   "outputs": [
    {
     "name": "stdout",
     "output_type": "stream",
     "text": [
      "['rec.autos' 'comp.sys.mac.hardware' 'comp.graphics' 'sci.space'\n",
      " 'talk.politics.guns' 'sci.med' 'comp.sys.ibm.pc.hardware'\n",
      " 'comp.os.ms-windows.misc' 'rec.motorcycles' 'talk.religion.misc'\n",
      " 'misc.forsale' 'alt.atheism' 'sci.electronics' 'comp.windows.x'\n",
      " 'rec.sport.hockey' 'rec.sport.baseball' 'soc.religion.christian'\n",
      " 'talk.politics.mideast' 'talk.politics.misc' 'sci.crypt']\n"
     ]
    },
    {
     "data": {
      "text/html": [
       "<div>\n",
       "<style scoped>\n",
       "    .dataframe tbody tr th:only-of-type {\n",
       "        vertical-align: middle;\n",
       "    }\n",
       "\n",
       "    .dataframe tbody tr th {\n",
       "        vertical-align: top;\n",
       "    }\n",
       "\n",
       "    .dataframe thead th {\n",
       "        text-align: right;\n",
       "    }\n",
       "</style>\n",
       "<table border=\"1\" class=\"dataframe\">\n",
       "  <thead>\n",
       "    <tr style=\"text-align: right;\">\n",
       "      <th></th>\n",
       "      <th>content</th>\n",
       "      <th>target</th>\n",
       "      <th>target_names</th>\n",
       "    </tr>\n",
       "  </thead>\n",
       "  <tbody>\n",
       "    <tr>\n",
       "      <th>0</th>\n",
       "      <td>From: lerxst@wam.umd.edu (where's my thing)\\nS...</td>\n",
       "      <td>7</td>\n",
       "      <td>rec.autos</td>\n",
       "    </tr>\n",
       "    <tr>\n",
       "      <th>1</th>\n",
       "      <td>From: guykuo@carson.u.washington.edu (Guy Kuo)...</td>\n",
       "      <td>4</td>\n",
       "      <td>comp.sys.mac.hardware</td>\n",
       "    </tr>\n",
       "    <tr>\n",
       "      <th>2</th>\n",
       "      <td>From: twillis@ec.ecn.purdue.edu (Thomas E Will...</td>\n",
       "      <td>4</td>\n",
       "      <td>comp.sys.mac.hardware</td>\n",
       "    </tr>\n",
       "    <tr>\n",
       "      <th>3</th>\n",
       "      <td>From: jgreen@amber (Joe Green)\\nSubject: Re: W...</td>\n",
       "      <td>1</td>\n",
       "      <td>comp.graphics</td>\n",
       "    </tr>\n",
       "    <tr>\n",
       "      <th>4</th>\n",
       "      <td>From: jcm@head-cfa.harvard.edu (Jonathan McDow...</td>\n",
       "      <td>14</td>\n",
       "      <td>sci.space</td>\n",
       "    </tr>\n",
       "  </tbody>\n",
       "</table>\n",
       "</div>"
      ],
      "text/plain": [
       "                                             content  target  \\\n",
       "0  From: lerxst@wam.umd.edu (where's my thing)\\nS...       7   \n",
       "1  From: guykuo@carson.u.washington.edu (Guy Kuo)...       4   \n",
       "2  From: twillis@ec.ecn.purdue.edu (Thomas E Will...       4   \n",
       "3  From: jgreen@amber (Joe Green)\\nSubject: Re: W...       1   \n",
       "4  From: jcm@head-cfa.harvard.edu (Jonathan McDow...      14   \n",
       "\n",
       "            target_names  \n",
       "0              rec.autos  \n",
       "1  comp.sys.mac.hardware  \n",
       "2  comp.sys.mac.hardware  \n",
       "3          comp.graphics  \n",
       "4              sci.space  "
      ]
     },
     "execution_count": 13,
     "metadata": {},
     "output_type": "execute_result"
    }
   ],
   "source": [
    "# Import Dataset\n",
    "df = pd.read_json('https://raw.githubusercontent.com/selva86/datasets/master/newsgroups.json')\n",
    "print(df.target_names.unique())\n",
    "df.head()"
   ]
  },
  {
   "cell_type": "code",
   "execution_count": 14,
   "metadata": {},
   "outputs": [
    {
     "data": {
      "text/plain": [
       "['rec.autoscomp.sys.mac.hardwarerec.motorcyclesmisc.forsalecomp.os.ms-windows.miscalt.atheismcomp.graphicsrec.sport.baseballrec.sport.hockeysci.electronicssci.spacetalk.politics.miscsci.medtalk.politics.mideastsoc.religion.christiancomp.windows.xcomp.sys.ibm.pc.hardwaretalk.politics.gunstalk.religion.miscsci.crypt']"
      ]
     },
     "execution_count": 14,
     "metadata": {},
     "output_type": "execute_result"
    }
   ],
   "source": [
    "['rec.autos' 'comp.sys.mac.hardware' 'rec.motorcycles' 'misc.forsale'\n",
    " 'comp.os.ms-windows.misc' 'alt.atheism' 'comp.graphics'\n",
    " 'rec.sport.baseball' 'rec.sport.hockey' 'sci.electronics' 'sci.space'\n",
    " 'talk.politics.misc' 'sci.med' 'talk.politics.mideast'\n",
    " 'soc.religion.christian' 'comp.windows.x' 'comp.sys.ibm.pc.hardware'\n",
    " 'talk.politics.guns' 'talk.religion.misc' 'sci.crypt']"
   ]
  },
  {
   "cell_type": "code",
   "execution_count": 15,
   "metadata": {},
   "outputs": [
    {
     "name": "stdout",
     "output_type": "stream",
     "text": [
      "['From: (wheres my thing) Subject: WHAT car is this!? Nntp-Posting-Host: '\n",
      " 'rac3.wam.umd.edu Organization: University of Maryland, College Park Lines: '\n",
      " '15 I was wondering if anyone out there could enlighten me on this car I saw '\n",
      " 'the other day. It was a 2-door sports car, looked to be from the late 60s/ '\n",
      " 'early 70s. It was called a Bricklin. The doors were really small. In '\n",
      " 'addition, the front bumper was separate from the rest of the body. This is '\n",
      " 'all I know. If anyone can tellme a model name, engine specs, years of '\n",
      " 'production, where this car is made, history, or whatever info you have on '\n",
      " 'this funky looking car, please e-mail. Thanks, - IL ---- brought to you by '\n",
      " 'your neighborhood Lerxst ---- ']\n"
     ]
    }
   ],
   "source": [
    "# Convert to list\n",
    "data = df.content.values.tolist()\n",
    "\n",
    "# Remove Emails\n",
    "data = [re.sub('\\S*@\\S*\\s?', '', sent) for sent in data]\n",
    "\n",
    "# Remove new line characters\n",
    "data = [re.sub('\\s+', ' ', sent) for sent in data]\n",
    "\n",
    "# Remove distracting single quotes\n",
    "data = [re.sub(\"\\'\", \"\", sent) for sent in data]\n",
    "\n",
    "pprint(data[:1])"
   ]
  },
  {
   "cell_type": "code",
   "execution_count": 17,
   "metadata": {},
   "outputs": [
    {
     "data": {
      "text/plain": [
       "['From: (wheres my thing) Subject: WHAT car is this!? Nntp-Posting-Host: rac3.wam.umd.edu Organization: University of Maryland, College Park Lines: 15 I was wondering if anyone out there could enlighten me on this car I saw the other day. It was a 2-door sports car, looked to be from the late 60s/ early 70s. It was called a Bricklin. The doors were really small. In addition, the front bumper was separate from the rest of the body. This is all I know. If anyone can tellme a model name, engine specs, years of production, where this car is made, history, or whatever info you have on this funky looking car, please e-mail. Thanks, - IL ---- brought to you by your neighborhood Lerxst ---- ']"
      ]
     },
     "execution_count": 17,
     "metadata": {},
     "output_type": "execute_result"
    }
   ],
   "source": [
    "['From: (wheres my thing) Subject: WHAT car is this!? Nntp-Posting-Host: '\n",
    " 'rac3.wam.umd.edu Organization: University of Maryland, College Park Lines: '\n",
    " '15 I was wondering if anyone out there could enlighten me on this car I saw '\n",
    " 'the other day. It was a 2-door sports car, looked to be from the late 60s/ '\n",
    " 'early 70s. It was called a Bricklin. The doors were really small. In '\n",
    " 'addition, the front bumper was separate from the rest of the body. This is '\n",
    " 'all I know. If anyone can tellme a model name, engine specs, years of '\n",
    " 'production, where this car is made, history, or whatever info you have on '\n",
    " 'this funky looking car, please e-mail. Thanks, - IL ---- brought to you by '\n",
    " 'your neighborhood Lerxst ---- ']"
   ]
  },
  {
   "cell_type": "code",
   "execution_count": 18,
   "metadata": {},
   "outputs": [
    {
     "name": "stdout",
     "output_type": "stream",
     "text": [
      "[['from', 'wheres', 'my', 'thing', 'subject', 'what', 'car', 'is', 'this', 'nntp', 'posting', 'host', 'rac', 'wam', 'umd', 'edu', 'organization', 'university', 'of', 'maryland', 'college', 'park', 'lines', 'was', 'wondering', 'if', 'anyone', 'out', 'there', 'could', 'enlighten', 'me', 'on', 'this', 'car', 'saw', 'the', 'other', 'day', 'it', 'was', 'door', 'sports', 'car', 'looked', 'to', 'be', 'from', 'the', 'late', 'early', 'it', 'was', 'called', 'bricklin', 'the', 'doors', 'were', 'really', 'small', 'in', 'addition', 'the', 'front', 'bumper', 'was', 'separate', 'from', 'the', 'rest', 'of', 'the', 'body', 'this', 'is', 'all', 'know', 'if', 'anyone', 'can', 'tellme', 'model', 'name', 'engine', 'specs', 'years', 'of', 'production', 'where', 'this', 'car', 'is', 'made', 'history', 'or', 'whatever', 'info', 'you', 'have', 'on', 'this', 'funky', 'looking', 'car', 'please', 'mail', 'thanks', 'il', 'brought', 'to', 'you', 'by', 'your', 'neighborhood', 'lerxst']]\n"
     ]
    }
   ],
   "source": [
    "def sent_to_words(sentences):\n",
    "    for sentence in sentences:\n",
    "        yield(gensim.utils.simple_preprocess(str(sentence), deacc=True))  # deacc=True removes punctuations\n",
    "\n",
    "data_words = list(sent_to_words(data))\n",
    "\n",
    "print(data_words[:1])"
   ]
  },
  {
   "cell_type": "code",
   "execution_count": 19,
   "metadata": {},
   "outputs": [
    {
     "name": "stdout",
     "output_type": "stream",
     "text": [
      "['from', 'wheres', 'my', 'thing', 'subject', 'what', 'car', 'is', 'this', 'nntp_posting_host', 'rac_wam_umd_edu', 'organization', 'university', 'of', 'maryland_college_park', 'lines', 'was', 'wondering', 'if', 'anyone', 'out', 'there', 'could', 'enlighten', 'me', 'on', 'this', 'car', 'saw', 'the', 'other', 'day', 'it', 'was', 'door', 'sports', 'car', 'looked', 'to', 'be', 'from', 'the', 'late', 'early', 'it', 'was', 'called', 'bricklin', 'the', 'doors', 'were', 'really', 'small', 'in', 'addition', 'the', 'front_bumper', 'was', 'separate', 'from', 'the', 'rest', 'of', 'the', 'body', 'this', 'is', 'all', 'know', 'if', 'anyone', 'can', 'tellme', 'model', 'name', 'engine', 'specs', 'years', 'of', 'production', 'where', 'this', 'car', 'is', 'made', 'history', 'or', 'whatever', 'info', 'you', 'have', 'on', 'this', 'funky', 'looking', 'car', 'please', 'mail', 'thanks', 'il', 'brought', 'to', 'you', 'by', 'your', 'neighborhood', 'lerxst']\n"
     ]
    }
   ],
   "source": [
    "# Build the bigram and trigram models\n",
    "bigram = gensim.models.Phrases(data_words, min_count=5, threshold=100) # higher threshold fewer phrases.\n",
    "trigram = gensim.models.Phrases(bigram[data_words], threshold=100)  \n",
    "\n",
    "# Faster way to get a sentence clubbed as a trigram/bigram\n",
    "bigram_mod = gensim.models.phrases.Phraser(bigram)\n",
    "trigram_mod = gensim.models.phrases.Phraser(trigram)\n",
    "\n",
    "# See trigram example\n",
    "print(trigram_mod[bigram_mod[data_words[0]]])"
   ]
  },
  {
   "cell_type": "code",
   "execution_count": 21,
   "metadata": {},
   "outputs": [],
   "source": [
    "# Define functions for stopwords, bigrams, trigrams and lemmatization\n",
    "def remove_stopwords(texts):\n",
    "    return [[word for word in simple_preprocess(str(doc)) if word not in stop_words] for doc in texts]\n",
    "\n",
    "def make_bigrams(texts):\n",
    "    return [bigram_mod[doc] for doc in texts]\n",
    "\n",
    "def make_trigrams(texts):\n",
    "    return [trigram_mod[bigram_mod[doc]] for doc in texts]\n",
    "\n",
    "def lemmatization(texts, allowed_postags=['NOUN', 'ADJ', 'VERB', 'ADV']):\n",
    "    \"\"\"https://spacy.io/api/annotation\"\"\"\n",
    "    texts_out = []\n",
    "    for sent in texts:\n",
    "        doc = nlp(\" \".join(sent)) \n",
    "        texts_out.append([token.lemma_ for token in doc if token.pos_ in allowed_postags])\n",
    "    return texts_out"
   ]
  },
  {
   "cell_type": "code",
   "execution_count": 23,
   "metadata": {},
   "outputs": [
    {
     "name": "stdout",
     "output_type": "stream",
     "text": [
      "[['where', 'thing', 'car', 'nntp_poste', 'host', 'park', 'line', 'wonder', 'could', 'enlighten', 'car', 'see', 'day', 'door', 'sport', 'car', 'look', 'late', 'early', 'call', 'bricklin', 'door', 'really', 'small', 'addition', 'separate', 'rest', 'body', 'know', 'tellme', 'model', 'name', 'engine', 'year', 'production', 'car', 'make', 'history', 'info', 'funky', 'look', 'car', 'mail', 'thank', 'bring', 'neighborhood', 'lerxst']]\n"
     ]
    }
   ],
   "source": [
    "# Remove Stop Words\n",
    "data_words_nostops = remove_stopwords(data_words)\n",
    "\n",
    "# Form Bigrams\n",
    "data_words_bigrams = make_bigrams(data_words_nostops)\n",
    "\n",
    "# Initialize spacy 'en' model, keeping only tagger component (for efficiency)\n",
    "# python3 -m spacy download en\n",
    "nlp = spacy.load('en', disable=['parser', 'ner'])\n",
    "\n",
    "# Do lemmatization keeping only noun, adj, vb, adv\n",
    "data_lemmatized = lemmatization(data_words_bigrams, allowed_postags=['NOUN', 'ADJ', 'VERB', 'ADV'])\n",
    "\n",
    "print(data_lemmatized[:1])"
   ]
  },
  {
   "cell_type": "code",
   "execution_count": 24,
   "metadata": {},
   "outputs": [
    {
     "name": "stdout",
     "output_type": "stream",
     "text": [
      "[[(0, 1), (1, 1), (2, 1), (3, 1), (4, 1), (5, 5), (6, 1), (7, 1), (8, 2), (9, 1), (10, 1), (11, 1), (12, 1), (13, 1), (14, 1), (15, 1), (16, 1), (17, 1), (18, 1), (19, 1), (20, 2), (21, 1), (22, 1), (23, 1), (24, 1), (25, 1), (26, 1), (27, 1), (28, 1), (29, 1), (30, 1), (31, 1), (32, 1), (33, 1), (34, 1), (35, 1), (36, 1), (37, 1), (38, 1), (39, 1), (40, 1)]]\n"
     ]
    }
   ],
   "source": [
    "# Create Dictionary\n",
    "id2word = corpora.Dictionary(data_lemmatized)\n",
    "\n",
    "# Create Corpus\n",
    "texts = data_lemmatized\n",
    "\n",
    "# Term Document Frequency\n",
    "corpus = [id2word.doc2bow(text) for text in texts]\n",
    "\n",
    "# View\n",
    "print(corpus[:1])"
   ]
  },
  {
   "cell_type": "code",
   "execution_count": 25,
   "metadata": {},
   "outputs": [
    {
     "data": {
      "text/plain": [
       "'addition'"
      ]
     },
     "execution_count": 25,
     "metadata": {},
     "output_type": "execute_result"
    }
   ],
   "source": [
    "id2word[0]"
   ]
  },
  {
   "cell_type": "code",
   "execution_count": 26,
   "metadata": {},
   "outputs": [
    {
     "data": {
      "text/plain": [
       "[[('addition', 1),\n",
       "  ('body', 1),\n",
       "  ('bricklin', 1),\n",
       "  ('bring', 1),\n",
       "  ('call', 1),\n",
       "  ('car', 5),\n",
       "  ('could', 1),\n",
       "  ('day', 1),\n",
       "  ('door', 2),\n",
       "  ('early', 1),\n",
       "  ('engine', 1),\n",
       "  ('enlighten', 1),\n",
       "  ('funky', 1),\n",
       "  ('history', 1),\n",
       "  ('host', 1),\n",
       "  ('info', 1),\n",
       "  ('know', 1),\n",
       "  ('late', 1),\n",
       "  ('lerxst', 1),\n",
       "  ('line', 1),\n",
       "  ('look', 2),\n",
       "  ('mail', 1),\n",
       "  ('make', 1),\n",
       "  ('model', 1),\n",
       "  ('name', 1),\n",
       "  ('neighborhood', 1),\n",
       "  ('nntp_poste', 1),\n",
       "  ('park', 1),\n",
       "  ('production', 1),\n",
       "  ('really', 1),\n",
       "  ('rest', 1),\n",
       "  ('see', 1),\n",
       "  ('separate', 1),\n",
       "  ('small', 1),\n",
       "  ('sport', 1),\n",
       "  ('tellme', 1),\n",
       "  ('thank', 1),\n",
       "  ('thing', 1),\n",
       "  ('where', 1),\n",
       "  ('wonder', 1),\n",
       "  ('year', 1)]]"
      ]
     },
     "execution_count": 26,
     "metadata": {},
     "output_type": "execute_result"
    }
   ],
   "source": [
    "# Human readable format of corpus (term-frequency)\n",
    "[[(id2word[id], freq) for id, freq in cp] for cp in corpus[:1]]"
   ]
  },
  {
   "cell_type": "code",
   "execution_count": 27,
   "metadata": {},
   "outputs": [],
   "source": [
    "# Build LDA model\n",
    "lda_model = gensim.models.ldamodel.LdaModel(corpus=corpus,\n",
    "                                           id2word=id2word,\n",
    "                                           num_topics=20, \n",
    "                                           random_state=100,\n",
    "                                           update_every=1,\n",
    "                                           chunksize=100,\n",
    "                                           passes=10,\n",
    "                                           alpha='auto',\n",
    "                                           per_word_topics=True)"
   ]
  },
  {
   "cell_type": "code",
   "execution_count": 28,
   "metadata": {},
   "outputs": [
    {
     "name": "stdout",
     "output_type": "stream",
     "text": [
      "[(0,\n",
      "  '0.097*\"black\" + 0.073*\"wing\" + 0.072*\"white\" + 0.048*\"vote\" + '\n",
      "  '0.041*\"flight\" + 0.028*\"devil\" + 0.027*\"capacity\" + 0.024*\"trace\" + '\n",
      "  '0.023*\"assist\" + 0.022*\"penalty\"'),\n",
      " (1,\n",
      "  '0.065*\"man\" + 0.040*\"god\" + 0.039*\"accept\" + 0.034*\"explain\" + '\n",
      "  '0.030*\"member\" + 0.029*\"age\" + 0.027*\"israeli\" + 0.027*\"season\" + '\n",
      "  '0.024*\"publish\" + 0.021*\"serious\"'),\n",
      " (2,\n",
      "  '0.130*\"board\" + 0.054*\"expansion\" + 0.032*\"looking\" + 0.016*\"stuff_delete\" '\n",
      "  '+ 0.011*\"rod\" + 0.000*\"reluctant\" + 0.000*\"wire\" + 0.000*\"connect\" + '\n",
      "  '0.000*\"worked\" + 0.000*\"blanking\"'),\n",
      " (3,\n",
      "  '0.060*\"reality\" + 0.053*\"picture\" + 0.050*\"object\" + 0.042*\"greek\" + '\n",
      "  '0.038*\"contain\" + 0.036*\"generate\" + 0.034*\"interface\" + 0.030*\"font\" + '\n",
      "  '0.029*\"concept\" + 0.026*\"workstation\"'),\n",
      " (4,\n",
      "  '0.215*\"ax\" + 0.182*\"max\" + 0.040*\"orbit\" + 0.035*\"satellite\" + '\n",
      "  '0.034*\"mission\" + 0.026*\"launch\" + 0.022*\"moon\" + 0.020*\"shuttle\" + '\n",
      "  '0.018*\"spacecraft\" + 0.017*\"lunar\"'),\n",
      " (5,\n",
      "  '0.032*\"kill\" + 0.024*\"child\" + 0.023*\"government\" + 0.022*\"people\" + '\n",
      "  '0.019*\"death\" + 0.018*\"attack\" + 0.017*\"country\" + 0.016*\"fire\" + '\n",
      "  '0.016*\"war\" + 0.015*\"woman\"'),\n",
      " (6,\n",
      "  '0.037*\"window\" + 0.034*\"card\" + 0.031*\"run\" + 0.028*\"problem\" + '\n",
      "  '0.027*\"computer\" + 0.026*\"bit\" + 0.025*\"thank\" + 0.024*\"driver\" + '\n",
      "  '0.024*\"price\" + 0.024*\"use\"'),\n",
      " (7,\n",
      "  '0.030*\"people\" + 0.023*\"say\" + 0.018*\"believe\" + 0.018*\"reason\" + '\n",
      "  '0.016*\"evidence\" + 0.014*\"may\" + 0.012*\"fact\" + 0.012*\"state\" + '\n",
      "  '0.011*\"mean\" + 0.011*\"claim\"'),\n",
      " (8,\n",
      "  '0.095*\"book\" + 0.068*\"physical\" + 0.062*\"science\" + 0.047*\"study\" + '\n",
      "  '0.032*\"author\" + 0.029*\"revelation\" + 0.027*\"avoid\" + 0.026*\"direct\" + '\n",
      "  '0.021*\"animal\" + 0.020*\"objective\"'),\n",
      " (9,\n",
      "  '0.062*\"program\" + 0.062*\"file\" + 0.059*\"mail\" + 0.045*\"send\" + '\n",
      "  '0.043*\"information\" + 0.035*\"list\" + 0.033*\"address\" + 0.031*\"email\" + '\n",
      "  '0.029*\"image\" + 0.028*\"copy\"'),\n",
      " (10,\n",
      "  '0.087*\"phone\" + 0.076*\"package\" + 0.052*\"nntp_posting\" + 0.051*\"route\" + '\n",
      "  '0.036*\"fax\" + 0.034*\"link\" + 0.032*\"btw\" + 0.032*\"primarily\" + '\n",
      "  '0.023*\"trick\" + 0.023*\"direction\"'),\n",
      " (11,\n",
      "  '0.182*\"drive\" + 0.119*\"car\" + 0.032*\"engine\" + 0.029*\"ride\" + 0.022*\"cop\" + '\n",
      "  '0.020*\"dealer\" + 0.019*\"mile\" + 0.018*\"buy\" + 0.017*\"road\" + '\n",
      "  '0.017*\"battery\"'),\n",
      " (12,\n",
      "  '0.085*\"player\" + 0.043*\"university\" + 0.033*\"switch\" + 0.032*\"cool\" + '\n",
      "  '0.029*\"printer\" + 0.028*\"baseball\" + 0.027*\"hot\" + 0.027*\"star\" + '\n",
      "  '0.020*\"blow\" + 0.020*\"helmet\"'),\n",
      " (13,\n",
      "  '0.098*\"software\" + 0.074*\"test\" + 0.051*\"pc\" + 0.044*\"product\" + '\n",
      "  '0.039*\"bus\" + 0.037*\"scsi\" + 0.031*\"internal\" + 0.030*\"device\" + '\n",
      "  '0.028*\"motif\" + 0.028*\"transfer\"'),\n",
      " (14,\n",
      "  '0.083*\"patient\" + 0.051*\"family\" + 0.045*\"box\" + 0.039*\"treatment\" + '\n",
      "  '0.038*\"disease\" + 0.036*\"doctor\" + 0.035*\"cd\" + 0.026*\"status\" + '\n",
      "  '0.025*\"medical\" + 0.024*\"wave\"'),\n",
      " (15,\n",
      "  '0.065*\"input\" + 0.053*\"eat\" + 0.049*\"material\" + 0.045*\"controller\" + '\n",
      "  '0.042*\"signal\" + 0.041*\"trust\" + 0.038*\"ground\" + 0.037*\"expensive\" + '\n",
      "  '0.031*\"output\" + 0.029*\"circuit\"'),\n",
      " (16,\n",
      "  '0.103*\"key\" + 0.057*\"gun\" + 0.055*\"chip\" + 0.047*\"public\" + '\n",
      "  '0.041*\"government\" + 0.029*\"encryption\" + 0.027*\"security\" + '\n",
      "  '0.025*\"private\" + 0.019*\"weapon\" + 0.018*\"secure\"'),\n",
      " (17,\n",
      "  '0.020*\"use\" + 0.018*\"also\" + 0.016*\"system\" + 0.014*\"may\" + 0.014*\"number\" '\n",
      "  '+ 0.013*\"new\" + 0.009*\"high\" + 0.008*\"work\" + 0.008*\"will\" + 0.008*\"need\"'),\n",
      " (18,\n",
      "  '0.078*\"team\" + 0.071*\"game\" + 0.055*\"year\" + 0.054*\"play\" + 0.050*\"win\" + '\n",
      "  '0.024*\"hit\" + 0.023*\"fan\" + 0.023*\"goal\" + 0.022*\"run\" + 0.022*\"score\"'),\n",
      " (19,\n",
      "  '0.039*\"would\" + 0.038*\"line\" + 0.033*\"write\" + 0.021*\"article\" + '\n",
      "  '0.020*\"know\" + 0.019*\"be\" + 0.018*\"go\" + 0.017*\"get\" + 0.015*\"think\" + '\n",
      "  '0.015*\"good\"')]\n"
     ]
    }
   ],
   "source": [
    "# Print the Keyword in the 10 topics\n",
    "pprint(lda_model.print_topics())\n",
    "doc_lda = lda_model[corpus]"
   ]
  },
  {
   "cell_type": "code",
   "execution_count": 29,
   "metadata": {},
   "outputs": [
    {
     "name": "stdout",
     "output_type": "stream",
     "text": [
      "\n",
      "Perplexity:  -12.920924009541404\n",
      "\n",
      "Coherence Score:  0.4349993277965744\n"
     ]
    }
   ],
   "source": [
    "# Compute Perplexity\n",
    "print('\\nPerplexity: ', lda_model.log_perplexity(corpus))  # a measure of how good the model is. lower the better.\n",
    "\n",
    "# Compute Coherence Score\n",
    "coherence_model_lda = CoherenceModel(model=lda_model, texts=data_lemmatized, dictionary=id2word, coherence='c_v')\n",
    "coherence_lda = coherence_model_lda.get_coherence()\n",
    "print('\\nCoherence Score: ', coherence_lda)"
   ]
  },
  {
   "cell_type": "code",
   "execution_count": 30,
   "metadata": {},
   "outputs": [
    {
     "data": {
      "text/html": [
       "\n",
       "<link rel=\"stylesheet\" type=\"text/css\" href=\"https://cdn.rawgit.com/bmabey/pyLDAvis/files/ldavis.v1.0.0.css\">\n",
       "\n",
       "\n",
       "<div id=\"ldavis_el703616231137712085352092776\"></div>\n",
       "<script type=\"text/javascript\">\n",
       "\n",
       "var ldavis_el703616231137712085352092776_data = {\"mdsDat\": {\"x\": [0.3580631377523244, 0.30980341079526164, 0.33498409652784683, 0.13689936941497788, 0.14584225262411524, 0.0770850173083599, 0.05211296987205763, -0.024042711929441633, 0.014538135605470789, -0.08317253933978082, -0.05905069973196139, -0.09346767827624922, -0.1405750643963027, -0.11102431835084685, -0.1378373614815024, -0.12811380652902304, -0.14351706279522286, -0.14900160976143537, -0.16294494710679006, -0.19658059020185795], \"y\": [-0.053273888398793, 0.08129434753815691, -0.1740325322531333, 0.31972720887880185, -0.201388310873271, 0.20580214884397616, 0.004541237966008955, 0.01916939128283318, -0.10758964598301449, -0.01994552659706553, 0.11052429365065054, 0.013550308396419164, -0.023678002398438, -0.009166523345678098, -0.027478213479785053, -0.03008954950645903, -0.02556122485683793, -0.0227063333691414, -0.027622673125942247, -0.03207651236929008], \"topics\": [1, 2, 3, 4, 5, 6, 7, 8, 9, 10, 11, 12, 13, 14, 15, 16, 17, 18, 19, 20], \"cluster\": [1, 1, 1, 1, 1, 1, 1, 1, 1, 1, 1, 1, 1, 1, 1, 1, 1, 1, 1, 1], \"Freq\": [35.991676330566406, 20.078460693359375, 15.996055603027344, 4.392676830291748, 4.197995185852051, 3.5281684398651123, 2.2350594997406006, 2.172891616821289, 2.1144936084747314, 1.3225960731506348, 1.24361252784729, 1.1970062255859375, 1.1209663152694702, 1.1080634593963623, 0.7756310701370239, 0.7322712540626526, 0.6843094229698181, 0.6040326356887817, 0.41332003474235535, 0.09071695059537888]}, \"tinfo\": {\"Term\": [\"would\", \"line\", \"write\", \"ax\", \"year\", \"drive\", \"people\", \"max\", \"use\", \"key\", \"article\", \"program\", \"problem\", \"file\", \"system\", \"mail\", \"be\", \"team\", \"go\", \"good\", \"car\", \"say\", \"run\", \"game\", \"thank\", \"information\", \"man\", \"send\", \"know\", \"get\", \"write\", \"article\", \"be\", \"go\", \"want\", \"organization\", \"s\", \"really\", \"have\", \"sure\", \"back\", \"bad\", \"hear\", \"little\", \"put\", \"lot\", \"maybe\", \"turn\", \"pay\", \"remember\", \"money\", \"week\", \"like\", \"hard\", \"ill\", \"pretty\", \"couple\", \"internet\", \"friend\", \"guess\", \"get\", \"would\", \"enough\", \"could\", \"line\", \"good\", \"host\", \"know\", \"much\", \"still\", \"reply\", \"look\", \"try\", \"take\", \"think\", \"see\", \"time\", \"well\", \"come\", \"make\", \"thing\", \"tell\", \"say\", \"way\", \"number\", \"will\", \"space\", \"large\", \"build\", \"technology\", \"receive\", \"single\", \"add\", \"control\", \"design\", \"increase\", \"service\", \"research\", \"function\", \"section\", \"process\", \"field\", \"remove\", \"center\", \"release\", \"block\", \"detail\", \"method\", \"amount\", \"various\", \"develop\", \"hour\", \"main\", \"unit\", \"high\", \"cost\", \"rate\", \"nntp_poste\", \"datum\", \"low\", \"new\", \"level\", \"standard\", \"small\", \"require\", \"type\", \"power\", \"system\", \"use\", \"return\", \"provide\", \"also\", \"order\", \"note\", \"set\", \"base\", \"support\", \"may\", \"include\", \"work\", \"need\", \"part\", \"change\", \"call\", \"case\", \"first\", \"believe\", \"evidence\", \"fact\", \"claim\", \"sense\", \"exist\", \"true\", \"person\", \"faith\", \"word\", \"rule\", \"religion\", \"argument\", \"prove\", \"speak\", \"truth\", \"clear\", \"discussion\", \"belief\", \"human\", \"church\", \"young\", \"conclusion\", \"statement\", \"christian\", \"religious\", \"indeed\", \"jewish\", \"deny\", \"logic\", \"reason\", \"matter\", \"law\", \"life\", \"state\", \"people\", \"view\", \"mean\", \"agree\", \"say\", \"world\", \"issue\", \"many\", \"must\", \"may\", \"question\", \"point\", \"become\", \"right\", \"case\", \"make\", \"even\", \"however\", \"think\", \"window\", \"card\", \"sale\", \"color\", \"distribution_usa\", \"screen\", \"memory\", \"bike\", \"disk\", \"tape\", \"display\", \"graphic\", \"mode\", \"monitor\", \"video\", \"purchase\", \"external\", \"mouse\", \"manager\", \"apple\", \"convert\", \"processor\", \"rider\", \"blind\", \"resolution\", \"serial\", \"default\", \"icon\", \"utility\", \"brother\", \"machine\", \"price\", \"driver\", \"computer\", \"version\", \"offer\", \"sell\", \"model\", \"bit\", \"run\", \"problem\", \"thank\", \"fast\", \"use\", \"buy\", \"system\", \"kill\", \"fire\", \"war\", \"soldier\", \"city\", \"murder\", \"village\", \"military\", \"land\", \"turkish\", \"withdraw\", \"occupy\", \"arm\", \"population\", \"national\", \"gift\", \"town\", \"armenian\", \"door\", \"civilian\", \"male\", \"burn\", \"minority\", \"percent\", \"somehow\", \"girl\", \"inhabitant\", \"violation\", \"role\", \"islamic\", \"woman\", \"police\", \"house\", \"attack\", \"country\", \"child\", \"death\", \"government\", \"force\", \"die\", \"people\", \"fight\", \"live\", \"shoot\", \"year\", \"file\", \"mail\", \"email\", \"image\", \"copy\", \"entry\", \"server\", \"distribution\", \"faq\", \"format\", \"library\", \"network\", \"update\", \"map\", \"morality\", \"guilty\", \"info\", \"conference\", \"electrical\", \"import\", \"correction\", \"television\", \"partially\", \"observer\", \"mapping\", \"ray\", \"kinda\", \"automate\", \"submission\", \"tiff\", \"address\", \"program\", \"request\", \"list\", \"send\", \"page\", \"user\", \"information\", \"available\", \"code\", \"message\", \"source\", \"include\", \"name\", \"post\", \"application\", \"thank\", \"read\", \"team\", \"game\", \"play\", \"win\", \"hit\", \"fan\", \"goal\", \"score\", \"division\", \"cpu\", \"trade\", \"average\", \"boy\", \"upgrade\", \"dog\", \"stat\", \"draft\", \"yesterday\", \"blue\", \"tie\", \"club\", \"travel\", \"offense\", \"soul\", \"coverage\", \"pitch\", \"floppy\", \"brave\", \"staff\", \"era\", \"stupid\", \"year\", \"defense\", \"lose\", \"run\", \"final\", \"last\", \"pick\", \"next\", \"first\", \"point\", \"god\", \"accept\", \"member\", \"israeli\", \"season\", \"publish\", \"serious\", \"shall\", \"society\", \"respect\", \"moral\", \"practice\", \"pen\", \"table\", \"son\", \"assumption\", \"homosexual\", \"imply\", \"letter\", \"improve\", \"arab\", \"mirror\", \"anti\", \"creation\", \"acquire\", \"economic\", \"unlikely\", \"western\", \"sight\", \"father\", \"age\", \"exactly\", \"man\", \"explain\", \"community\", \"purpose\", \"whole\", \"key\", \"gun\", \"chip\", \"encryption\", \"security\", \"private\", \"weapon\", \"secure\", \"license\", \"tap\", \"firearm\", \"ide\", \"review\", \"blank\", \"headache\", \"rsa\", \"specify\", \"export\", \"algorithm\", \"capture\", \"distance\", \"restriction\", \"usage\", \"regulation\", \"packet\", \"investigation\", \"cryptography\", \"crack\", \"horse\", \"sheet\", \"public\", \"criminal\", \"protect\", \"government\", \"crime\", \"legal\", \"device\", \"carry\", \"right\", \"use\", \"book\", \"physical\", \"science\", \"study\", \"author\", \"revelation\", \"avoid\", \"direct\", \"animal\", \"objective\", \"interpretation\", \"benefit\", \"language\", \"statistic\", \"task\", \"prize\", \"daughter\", \"element\", \"interpret\", \"absolute\", \"relationship\", \"reward\", \"category\", \"birth\", \"phase\", \"advanced\", \"vision\", \"analogy\", \"introduction\", \"novel\", \"observation\", \"ready\", \"contain\", \"topic\", \"explain\", \"drive\", \"car\", \"engine\", \"ride\", \"cop\", \"mile\", \"battery\", \"decent\", \"accident\", \"factory\", \"cross\", \"up\", \"gear\", \"auto\", \"mid\", \"revolver\", \"amp\", \"luxury\", \"volt\", \"rear\", \"highway\", \"mileage\", \"turbo\", \"suspension\", \"sustain\", \"buying\", \"salesman\", \"driving\", \"handling\", \"closet\", \"dealer\", \"trip\", \"vehicle\", \"owner\", \"road\", \"safety\", \"front\", \"pull\", \"speed\", \"insurance\", \"buy\", \"light\", \"fast\", \"model\", \"driver\", \"price\", \"software\", \"test\", \"pc\", \"product\", \"bus\", \"scsi\", \"internal\", \"motif\", \"transfer\", \"cable\", \"aware\", \"procedure\", \"engineering\", \"laboratory\", \"motherboard\", \"unix\", \"clock\", \"connector\", \"pub\", \"fee\", \"extension\", \"vendor\", \"cluster\", \"restore\", \"fancy\", \"meter\", \"spec\", \"peripheral\", \"fatal\", \"designer\", \"bill\", \"fairly\", \"performance\", \"device\", \"factor\", \"speed\", \"ax\", \"max\", \"orbit\", \"satellite\", \"moon\", \"shuttle\", \"spacecraft\", \"lunar\", \"solar\", \"film\", \"movie\", \"scare\", \"plot\", \"secular\", \"planetary\", \"orbiter\", \"orbital\", \"winter\", \"thrust\", \"particle\", \"interior\", \"mission\", \"maneuver\", \"launch\", \"di_di\", \"bhjn\", \"gk\", \"pmfq\", \"pl_pl\", \"eqtm\", \"part\", \"player\", \"university\", \"switch\", \"cool\", \"printer\", \"baseball\", \"hot\", \"star\", \"blow\", \"helmet\", \"ice\", \"water\", \"oil\", \"cold\", \"cap\", \"canadian\", \"saturn\", \"remind\", \"quick\", \"nuclear\", \"deliver\", \"cylinder\", \"heat\", \"red\", \"improvement\", \"crazy\", \"motor\", \"soft\", \"bag\", \"smart\", \"wear\", \"sport\", \"reality\", \"picture\", \"object\", \"greek\", \"generate\", \"interface\", \"font\", \"concept\", \"workstation\", \"management\", \"anywhere\", \"universe\", \"routine\", \"button\", \"depth\", \"widget\", \"bounce\", \"programmer\", \"exposure\", \"variation\", \"mb\", \"infinite\", \"characteristic\", \"arbitrary\", \"compress\", \"competition\", \"generic\", \"deletion\", \"comprise\", \"roman\", \"contain\", \"scale\", \"text\", \"patient\", \"family\", \"box\", \"treatment\", \"disease\", \"doctor\", \"cd\", \"status\", \"medical\", \"wave\", \"ticket\", \"health\", \"violence\", \"immediate\", \"spring\", \"modem\", \"confirm\", \"automatically\", \"physician\", \"terminal\", \"diet\", \"severe\", \"campaign\", \"investment\", \"medicine\", \"discount\", \"diagnostic\", \"bury\", \"shock\", \"mad\", \"insurance\", \"treat\", \"risk\", \"input\", \"eat\", \"material\", \"controller\", \"signal\", \"trust\", \"expensive\", \"output\", \"circuit\", \"noise\", \"configuration\", \"dept\", \"own\", \"greatly_appreciate\", \"constitution\", \"japanese\", \"voltage\", \"tire\", \"impressive\", \"belt\", \"preferably\", \"unique\", \"timing\", \"accuracy\", \"domain\", \"maintenance\", \"dynamic\", \"recieve\", \"shaft\", \"acquisition\", \"ground\", \"phone\", \"package\", \"nntp_posting\", \"route\", \"fax\", \"link\", \"btw\", \"primarily\", \"trick\", \"direction\", \"highly\", \"buyer\", \"reflect\", \"sky\", \"proud\", \"dare\", \"suck\", \"catalog\", \"indication\", \"leadership\", \"survey\", \"forum\", \"sue\", \"repost\", \"creature\", \"formation\", \"enhancement\", \"desert\", \"primitive\", \"mailing\", \"black\", \"wing\", \"white\", \"vote\", \"flight\", \"devil\", \"capacity\", \"trace\", \"assist\", \"penalty\", \"mass\", \"strip\", \"crew\", \"dirty\", \"tour\", \"presentation\", \"leather\", \"module\", \"utilize\", \"horror\", \"stamp\", \"analyze\", \"abstract\", \"ssf\", \"dish\", \"qualified\", \"cone\", \"subtly\", \"schedule\", \"mission\", \"board\", \"expansion\", \"looking\", \"stuff_delete\", \"rod\", \"reluctant\", \"wire\", \"jolt\", \"jiggle\", \"worked\", \"medford\", \"blanking\", \"connect\", \"fpu\", \"shephard\", \"plutonium\", \"ethernet\", \"univesa\", \"bubble\", \"franchise\", \"reprocess\", \"ntsc\", \"fabricate\", \"flop\", \"vram\", \"flip\", \"din\", \"allotment\", \"foreseeable\", \"nhls\", \"admiral\", \"compatible\", \"template\", \"jet\", \"expand\", \"grade\", \"slot\", \"item\", \"frame\", \"hockey\", \"dollar\", \"pin\"], \"Freq\": [16156.0, 15862.0, 13427.0, 2717.0, 4625.0, 2551.0, 7510.0, 2300.0, 5989.0, 2466.0, 8624.0, 2698.0, 3864.0, 2466.0, 4626.0, 2355.0, 7564.0, 1975.0, 7480.0, 6108.0, 1670.0, 8574.0, 2866.0, 1804.0, 3194.0, 2139.0, 1887.0, 2108.0, 8484.0, 7177.0, 13426.1875, 8622.966796875, 7563.71435546875, 7479.75439453125, 4505.07763671875, 3863.9921875, 3812.225830078125, 2982.308349609375, 2811.509765625, 2595.900146484375, 2447.191162109375, 2125.47119140625, 2014.561767578125, 1978.0377197265625, 1914.172119140625, 1881.2288818359375, 1424.68798828125, 1271.4571533203125, 1268.5533447265625, 1261.9561767578125, 1209.326904296875, 1201.94189453125, 1179.6033935546875, 1092.3326416015625, 921.944091796875, 881.904541015625, 850.1304931640625, 840.9970092773438, 837.753173828125, 820.0040283203125, 7106.48779296875, 15778.7822265625, 1642.8050537109375, 4970.0986328125, 15245.2392578125, 5956.72802734375, 4779.78759765625, 8054.05615234375, 3499.2197265625, 2550.53369140625, 2325.880615234375, 3578.4208984375, 3723.953125, 4103.03125, 6228.82763671875, 4995.39208984375, 5196.8447265625, 3593.074951171875, 3759.5224609375, 5528.716796875, 3527.5791015625, 2812.206298828125, 4204.658203125, 2929.73486328125, 3066.72607421875, 1853.927978515625, 1512.0335693359375, 1494.628173828125, 1445.115234375, 1324.931640625, 1273.4404296875, 1044.6624755859375, 1013.2265014648438, 968.7786254882812, 931.30810546875, 895.8145141601562, 861.7931518554688, 804.18701171875, 718.4708251953125, 691.7658081054688, 689.34423828125, 642.3894653320312, 637.9900512695312, 619.5888671875, 613.181396484375, 603.6307983398438, 603.4407958984375, 592.6254272460938, 584.5589599609375, 560.7996826171875, 556.3065795898438, 554.841552734375, 535.3345947265625, 535.0985717773438, 2055.498779296875, 1273.9197998046875, 984.2634887695312, 1444.775146484375, 1004.124755859375, 1089.84033203125, 3022.039306640625, 928.3334350585938, 912.0711669921875, 1210.5908203125, 1316.3323974609375, 1248.6483154296875, 1541.179443359375, 3712.553955078125, 4631.669921875, 1028.682861328125, 1641.4400634765625, 3990.04931640625, 1657.655029296875, 1142.9842529296875, 1609.662353515625, 1343.5860595703125, 1482.4510498046875, 3073.23046875, 1599.168701171875, 1916.3895263671875, 1841.9010009765625, 1368.9200439453125, 1265.06494140625, 1482.7989501953125, 1348.51708984375, 1392.0460205078125, 3222.84716796875, 2803.01318359375, 2128.9501953125, 2015.59619140625, 1725.9534912109375, 1677.3131103515625, 1584.7939453125, 1559.1829833984375, 1403.682861328125, 1232.5386962890625, 1048.845458984375, 1047.9609375, 998.5783081054688, 949.8367919921875, 934.0220947265625, 859.6913452148438, 843.696044921875, 835.5838012695312, 827.970703125, 709.4337768554688, 688.4559936523438, 671.4019775390625, 654.1888427734375, 633.2756958007812, 627.5521850585938, 620.8758544921875, 560.4020385742188, 552.345947265625, 548.3662719726562, 491.3408508300781, 3200.877197265625, 929.4327392578125, 1600.71435546875, 1194.671875, 2109.146240234375, 5407.45263671875, 999.0255737304688, 2030.5428466796875, 1052.8853759765625, 4149.35498046875, 1168.9857177734375, 1321.5697021484375, 2007.13037109375, 1452.3616943359375, 2556.646484375, 1590.1981201171875, 1613.2720947265625, 1084.53125, 1423.8499755859375, 1284.0400390625, 1667.943603515625, 1204.8138427734375, 1125.8255615234375, 1240.1900634765625, 1836.0255126953125, 1671.1400146484375, 965.7024536132812, 904.7189331054688, 855.8367309570312, 810.4688110351562, 806.6883544921875, 793.7012329101562, 783.1902465820312, 710.2753295898438, 709.9437866210938, 687.882080078125, 654.6957397460938, 633.8368530273438, 589.2803344726562, 401.2123107910156, 392.2811279296875, 363.77142333984375, 351.9187927246094, 342.6967468261719, 316.4833984375, 288.75946044921875, 275.8143310546875, 252.92945861816406, 250.88845825195312, 228.8690185546875, 184.341796875, 175.1528778076172, 172.052734375, 165.8901824951172, 1094.687255859375, 1182.5343017578125, 1195.602783203125, 1342.7999267578125, 877.7745971679688, 719.7522583007812, 1008.263916015625, 639.62744140625, 1266.5523681640625, 1545.4085693359375, 1403.4434814453125, 1219.882568359375, 520.232177734375, 1176.8773193359375, 641.7139282226562, 912.5626220703125, 1497.9942626953125, 760.874267578125, 740.23681640625, 696.6638793945312, 669.4789428710938, 606.9308471679688, 604.7130737304688, 563.1668701171875, 545.93994140625, 418.60626220703125, 379.9095458984375, 376.8856506347656, 362.83648681640625, 358.2897033691406, 357.5006103515625, 355.03118896484375, 338.38153076171875, 322.6551208496094, 308.5679626464844, 304.7874450683594, 297.3951110839844, 291.3440856933594, 244.34259033203125, 243.01397705078125, 231.17642211914062, 225.28610229492188, 209.77223205566406, 202.04847717285156, 201.0701141357422, 196.8196563720703, 724.5249633789062, 518.686767578125, 315.9283752441406, 848.16748046875, 800.4022827148438, 1132.97412109375, 904.7174072265625, 1104.29736328125, 588.2738037109375, 570.3621826171875, 1044.379638671875, 336.042724609375, 496.47607421875, 370.4940185546875, 349.1084289550781, 2465.157470703125, 2354.55126953125, 1241.6153564453125, 1158.909423828125, 1099.79150390625, 1035.4873046875, 761.5872802734375, 670.9041748046875, 646.9072875976562, 569.3053588867188, 444.7023620605469, 645.5050659179688, 375.7187194824219, 217.83973693847656, 211.99989318847656, 178.53013610839844, 1057.3050537109375, 160.89556884765625, 136.2443084716797, 101.92488861083984, 100.57665252685547, 72.96209716796875, 61.33193588256836, 50.88453674316406, 49.66597366333008, 49.637596130371094, 47.45705795288086, 34.17008590698242, 30.330810546875, 28.51655387878418, 1315.3470458984375, 2480.570068359375, 464.7471008300781, 1377.3916015625, 1792.743408203125, 592.3549194335938, 773.1201171875, 1698.9261474609375, 1030.777099609375, 520.916748046875, 1044.7803955078125, 701.0025024414062, 742.0020141601562, 585.6802368164062, 628.6758422851562, 384.7557373046875, 482.3565979003906, 395.03472900390625, 1974.5643310546875, 1803.439453125, 1370.3167724609375, 1272.640380859375, 597.4999389648438, 582.8313598632812, 574.7993774414062, 552.39794921875, 505.9572448730469, 473.0958557128906, 461.5015869140625, 354.36376953125, 295.2052307128906, 238.60475158691406, 224.06369018554688, 221.67706298828125, 219.1243133544922, 192.27359008789062, 187.1280517578125, 185.00570678710938, 174.90216064453125, 172.24099731445312, 171.6151123046875, 165.9696502685547, 157.25270080566406, 156.38758850097656, 149.15957641601562, 111.81158447265625, 110.70979309082031, 108.88874053955078, 258.0653381347656, 1400.1796875, 207.7198486328125, 415.7392272949219, 564.4088745117188, 238.55494689941406, 440.70953369140625, 237.9448699951172, 297.5565185546875, 341.1329650878906, 250.05987548828125, 991.5809936523438, 958.521728515625, 746.8801879882812, 664.0360107421875, 656.2123413085938, 579.861572265625, 524.7779541015625, 507.9496765136719, 446.21533203125, 444.3015441894531, 437.5625305175781, 368.68115234375, 350.2008056640625, 321.38287353515625, 319.6642761230469, 281.5848388671875, 258.9782409667969, 247.3538055419922, 238.01046752929688, 237.68304443359375, 232.97830200195312, 223.80332946777344, 220.80718994140625, 213.52931213378906, 195.587646484375, 195.36802673339844, 193.6036834716797, 177.14161682128906, 170.5538330078125, 169.04391479492188, 721.5783081054688, 519.3877563476562, 1588.9329833984375, 843.3820190429688, 411.7184753417969, 305.2235412597656, 292.30450439453125, 2465.816650390625, 1361.832763671875, 1304.2760009765625, 699.2527465820312, 641.24072265625, 593.4296875, 465.2558288574219, 430.9228820800781, 419.9881591796875, 399.7528076171875, 365.2269287109375, 294.2013244628906, 293.2689208984375, 269.1185607910156, 234.06455993652344, 228.47393798828125, 223.0703125, 190.0782012939453, 179.17909240722656, 172.95809936523438, 151.56991577148438, 148.26438903808594, 133.47711181640625, 132.7023162841797, 131.51271057128906, 130.7427520751953, 128.79148864746094, 127.51803588867188, 127.31671142578125, 123.24093627929688, 1115.65966796875, 281.26666259765625, 415.3572998046875, 985.6356811523438, 344.5639343261719, 210.1735382080078, 200.42398071289062, 208.38905334472656, 210.69874572753906, 163.3477783203125, 1425.5611572265625, 1022.3413696289062, 925.6017456054688, 702.9656372070312, 484.0510559082031, 425.9086608886719, 401.2968444824219, 393.5729064941406, 320.1993713378906, 299.9881591796875, 256.3394470214844, 251.8523712158203, 242.05987548828125, 231.6658477783203, 196.49566650390625, 175.6733856201172, 167.50462341308594, 162.04608154296875, 156.07774353027344, 148.46876525878906, 143.60330200195312, 138.376708984375, 136.05828857421875, 117.47575378417969, 110.77371215820312, 93.97312927246094, 90.97856140136719, 90.04454040527344, 86.7240219116211, 77.68184661865234, 210.8548126220703, 133.45266723632812, 282.0245666503906, 119.992919921875, 116.91421508789062, 2549.8369140625, 1669.023681640625, 455.7720947265625, 412.1630554199219, 304.3316345214844, 263.91326904296875, 233.84921264648438, 180.5644989013672, 169.65121459960938, 158.4951629638672, 150.0474090576172, 130.68235778808594, 121.61942291259766, 115.4130859375, 113.68777465820312, 102.49954986572266, 87.17525482177734, 86.85682678222656, 83.77705383300781, 81.1336898803711, 73.93090057373047, 59.21690368652344, 57.74467849731445, 50.044532775878906, 48.6046257019043, 47.471580505371094, 46.12861633300781, 41.36750030517578, 37.88203811645508, 37.371585845947266, 286.8192443847656, 108.7986831665039, 216.10105895996094, 207.16983032226562, 239.53659057617188, 220.54043579101562, 172.9876251220703, 160.78768920898438, 214.84768676757812, 122.44696044921875, 248.83444213867188, 179.3912811279297, 174.01197814941406, 160.96475219726562, 130.32057189941406, 122.49873352050781, 1326.7196044921875, 1002.0186157226562, 694.7966918945312, 601.1385498046875, 524.6256713867188, 503.7090759277344, 423.63153076171875, 385.08184814453125, 372.6489562988281, 285.9792175292969, 282.9980163574219, 274.4187927246094, 263.1788024902344, 251.72232055664062, 190.23379516601562, 189.1635284423828, 188.2818603515625, 168.4665069580078, 140.32901000976562, 118.24172973632812, 114.55900573730469, 111.13333129882812, 109.72417449951172, 105.85333251953125, 103.80148315429688, 97.66477966308594, 62.245784759521484, 58.974334716796875, 42.31572341918945, 34.25127410888672, 226.73190307617188, 201.51531982421875, 334.79498291015625, 410.489013671875, 109.7838363647461, 118.0577163696289, 2716.16845703125, 2299.34423828125, 505.61077880859375, 442.0048828125, 276.9924011230469, 257.7203063964844, 232.1596221923828, 213.7611846923828, 188.04299926757812, 167.3001251220703, 150.8746795654297, 143.46356201171875, 128.25852966308594, 123.37338256835938, 109.73808288574219, 81.7029800415039, 69.4183349609375, 57.99275588989258, 50.52007293701172, 39.38071823120117, 16.861745834350586, 430.8061828613281, 13.287035942077637, 331.04083251953125, 0.09146317839622498, 0.09145711362361908, 0.09145305305719376, 0.0914519727230072, 0.09144926816225052, 0.09144854545593262, 9.262617111206055, 1060.9718017578125, 540.8146362304688, 412.0149841308594, 403.8769836425781, 366.6992492675781, 353.8677978515625, 343.48712158203125, 335.7889709472656, 251.22006225585938, 251.0314178466797, 241.828857421875, 239.81016540527344, 211.0807647705078, 206.20480346679688, 202.1785888671875, 189.1925048828125, 186.56103515625, 184.42279052734375, 183.57737731933594, 172.25119018554688, 171.62469482421875, 155.50460815429688, 155.20193481445312, 154.57757568359375, 131.78318786621094, 120.17247772216797, 115.70895385742188, 115.60513305664062, 106.65255737304688, 100.99108123779297, 212.4299774169922, 148.89437866210938, 527.672119140625, 467.9173583984375, 434.4330139160156, 364.56597900390625, 313.3111877441406, 296.9571228027344, 259.93341064453125, 253.5383758544922, 226.27671813964844, 181.14981079101562, 174.6221160888672, 169.22251892089844, 149.7614288330078, 130.3975372314453, 128.83677673339844, 125.71047973632812, 98.23786926269531, 96.13401794433594, 89.6187515258789, 82.23489379882812, 81.87342834472656, 72.56964111328125, 69.94871520996094, 69.32038116455078, 62.05024719238281, 59.195472717285156, 55.850181579589844, 52.757049560546875, 52.41108703613281, 49.53053283691406, 335.9720458984375, 86.98136138916016, 58.00394821166992, 685.1051025390625, 421.39093017578125, 367.99835205078125, 324.58172607421875, 313.7154235839844, 296.69146728515625, 291.3696594238281, 216.22608947753906, 203.1514434814453, 195.97364807128906, 185.49249267578125, 178.20401000976562, 157.81626892089844, 141.39321899414062, 131.197998046875, 130.30172729492188, 118.54240417480469, 109.02157592773438, 106.41242218017578, 105.40376281738281, 95.51689910888672, 87.67987060546875, 86.35515594482422, 82.24138641357422, 79.02328491210938, 66.11907958984375, 62.15007781982422, 61.15314483642578, 59.33242416381836, 52.620792388916016, 138.061279296875, 68.19606018066406, 65.8779525756836, 502.6752014160156, 407.4879150390625, 379.0329284667969, 347.77825927734375, 321.3470764160156, 315.9715881347656, 287.36773681640625, 241.68568420410156, 223.2765350341797, 156.06907653808594, 154.90916442871094, 148.81089782714844, 145.3787384033203, 123.52007293701172, 114.54557037353516, 106.20285034179688, 105.15984344482422, 103.44866943359375, 87.24739837646484, 81.60584259033203, 79.72905731201172, 77.58580017089844, 76.8935317993164, 66.70488739013672, 65.11480712890625, 56.33628463745117, 53.88136291503906, 47.22420883178711, 46.04139709472656, 43.0634880065918, 294.27813720703125, 590.8596801757812, 516.6342163085938, 353.1058349609375, 346.8887634277344, 245.4412078857422, 234.58021545410156, 221.0532684326172, 220.77845764160156, 156.70608520507812, 154.81468200683594, 143.99497985839844, 143.53390502929688, 118.06404876708984, 110.39664459228516, 102.94136047363281, 86.89443969726562, 83.03657531738281, 75.20234680175781, 72.85865020751953, 66.08639526367188, 62.33124542236328, 60.27819061279297, 57.38336944580078, 51.09724044799805, 49.49705505371094, 48.409942626953125, 48.24139404296875, 44.55431365966797, 33.07988739013672, 32.93937301635742, 452.0640869140625, 338.5350341796875, 336.4128112792969, 223.28433227539062, 189.24322509765625, 132.47958374023438, 124.3273696899414, 114.16415405273438, 108.22972869873047, 104.18611145019531, 98.5302505493164, 76.45458221435547, 76.32359313964844, 70.03157806396484, 56.29774475097656, 54.2680549621582, 45.638824462890625, 40.187355041503906, 38.113609313964844, 29.85464859008789, 29.513357162475586, 27.306001663208008, 18.869810104370117, 18.48705291748047, 17.857444763183594, 8.471270561218262, 5.930297374725342, 0.5014575719833374, 59.08849334716797, 29.219236373901367, 132.81478881835938, 55.23335266113281, 32.925376892089844, 16.72496795654297, 11.266458511352539, 0.16654935479164124, 0.01967504806816578, 0.019671523943543434, 0.019671523943543434, 0.019671523943543434, 0.01967150904238224, 0.019671523943543434, 0.019671602174639702, 0.019669488072395325, 0.01966889202594757, 0.01966872438788414, 0.019668642431497574, 0.01966845616698265, 0.0196684543043375, 0.01966877281665802, 0.01966843567788601, 0.01966843195259571, 0.01966843567788601, 0.01966850273311138, 0.01966860145330429, 0.01966850459575653, 0.019668346270918846, 0.019668275490403175, 0.019668275490403175, 0.019668294116854668, 0.019668450579047203, 0.019668731838464737, 0.019668353721499443, 0.019668545573949814, 0.019668444991111755, 0.01966848410665989, 0.01966851018369198, 0.019668683409690857, 0.019668525084853172, 0.019668646156787872, 0.01966851018369198, 0.019668573513627052], \"Total\": [16156.0, 15862.0, 13427.0, 2717.0, 4625.0, 2551.0, 7510.0, 2300.0, 5989.0, 2466.0, 8624.0, 2698.0, 3864.0, 2466.0, 4626.0, 2355.0, 7564.0, 1975.0, 7480.0, 6108.0, 1670.0, 8574.0, 2866.0, 1804.0, 3194.0, 2139.0, 1887.0, 2108.0, 8484.0, 7177.0, 13427.3564453125, 8624.1357421875, 7564.88427734375, 7480.92431640625, 4506.24755859375, 3865.1611328125, 3813.394775390625, 2983.477294921875, 2812.6787109375, 2597.098388671875, 2448.360107421875, 2126.64013671875, 2015.7308349609375, 1979.206787109375, 1915.3411865234375, 1882.39794921875, 1425.8570556640625, 1272.626220703125, 1269.722412109375, 1263.125244140625, 1210.4959716796875, 1203.1109619140625, 1180.7724609375, 1093.501708984375, 923.1131591796875, 883.0736083984375, 851.299560546875, 842.1660766601562, 838.9222412109375, 821.173095703125, 7177.67333984375, 16156.943359375, 1649.580322265625, 5051.14794921875, 15862.66796875, 6108.53076171875, 4901.283203125, 8484.083984375, 3640.776123046875, 2628.893798828125, 2399.174072265625, 3878.52685546875, 4090.563232421875, 4573.1162109375, 7470.123046875, 5820.818359375, 6294.154296875, 4183.68994140625, 4593.654296875, 7900.70849609375, 4433.79736328125, 3189.731201171875, 8574.541015625, 3939.03564453125, 3067.892333984375, 1855.09423828125, 1513.1998291015625, 1495.79443359375, 1446.281494140625, 1326.097900390625, 1274.606689453125, 1045.8287353515625, 1014.3927001953125, 969.94482421875, 932.4743041992188, 896.980712890625, 862.9593505859375, 805.3532104492188, 719.6370239257812, 692.9320068359375, 690.5104370117188, 643.5556640625, 639.15625, 620.7550659179688, 614.3475952148438, 604.7969970703125, 604.6069946289062, 593.7931518554688, 585.7251586914062, 561.9658813476562, 557.4727783203125, 556.0077514648438, 536.5007934570312, 536.2647705078125, 2063.5927734375, 1285.0340576171875, 999.1488647460938, 1498.5958251953125, 1032.1671142578125, 1130.566650390625, 3383.482666015625, 960.0397338867188, 944.56201171875, 1286.154052734375, 1415.965576171875, 1337.9312744140625, 1706.24462890625, 4626.2158203125, 5989.65087890625, 1088.33642578125, 1946.640625, 5871.884765625, 2015.4635009765625, 1257.969482421875, 2007.1202392578125, 1603.787109375, 1863.25341796875, 7298.1083984375, 2393.31494140625, 4547.05859375, 4274.73486328125, 2273.118896484375, 1819.6929931640625, 3071.0849609375, 2684.50390625, 3679.8916015625, 3224.021728515625, 2804.187744140625, 2130.124755859375, 2016.770751953125, 1727.1280517578125, 1678.4876708984375, 1585.968505859375, 1560.357666015625, 1404.857421875, 1233.7132568359375, 1050.02001953125, 1049.135498046875, 999.7528686523438, 951.0113525390625, 935.1966552734375, 860.8659057617188, 844.87060546875, 836.7583618164062, 829.145263671875, 710.6083374023438, 689.6305541992188, 672.5765380859375, 655.3634033203125, 634.4502563476562, 628.7267456054688, 622.0504150390625, 561.5765991210938, 553.5205078125, 549.5408325195312, 492.5154113769531, 3287.9453125, 951.9199829101562, 1727.55029296875, 1268.908935546875, 2393.048828125, 7510.0087890625, 1074.2738037109375, 2705.53125, 1254.5772705078125, 8574.541015625, 1481.853759765625, 1836.389404296875, 3834.223388671875, 2261.66552734375, 7298.1083984375, 3243.63671875, 3556.107666015625, 1369.4088134765625, 3466.6201171875, 2684.50390625, 7900.70849609375, 3939.6689453125, 2104.001953125, 7470.123046875, 1837.197265625, 1672.311767578125, 966.8740844726562, 905.8905639648438, 857.0083618164062, 811.6404418945312, 807.8599853515625, 794.8728637695312, 784.3618774414062, 711.4469604492188, 711.1154174804688, 689.0537109375, 655.8673706054688, 635.0084838867188, 590.4519653320312, 402.3839416503906, 393.4527587890625, 364.94305419921875, 353.0904235839844, 343.8683776855469, 317.655029296875, 289.93109130859375, 276.9859619140625, 254.1011199951172, 252.06011962890625, 230.04067993164062, 185.51345825195312, 176.3245391845703, 173.22439575195312, 167.0618438720703, 1107.598876953125, 1306.1488037109375, 1327.0390625, 1563.5465087890625, 992.2074584960938, 828.8869018554688, 1256.4384765625, 801.707763671875, 2025.6513671875, 2866.610107421875, 3864.498291015625, 3194.7919921875, 741.0670776367188, 5989.65087890625, 1562.588623046875, 4626.2158203125, 1499.161376953125, 762.041259765625, 741.40380859375, 697.8308715820312, 670.6459350585938, 608.0978393554688, 605.8800659179688, 564.3338623046875, 547.10693359375, 419.773193359375, 381.07647705078125, 378.0525817871094, 364.00341796875, 359.4566345214844, 358.66754150390625, 356.1981201171875, 339.5484619140625, 323.8220520019531, 309.7348937988281, 305.9543762207031, 298.5620422363281, 292.5110168457031, 245.50958251953125, 244.18096923828125, 232.34341430664062, 226.45309448242188, 210.93922424316406, 203.21546936035156, 202.2371063232422, 197.9866485595703, 733.1510009765625, 526.9833374023438, 325.3060302734375, 955.0454711914062, 899.864013671875, 1529.4599609375, 1188.423828125, 2091.036865234375, 940.1080322265625, 1037.6072998046875, 7510.0087890625, 406.1549377441406, 1691.0142822265625, 580.542236328125, 4625.908203125, 2466.322998046875, 2355.716796875, 1242.781005859375, 1160.0750732421875, 1100.9571533203125, 1036.6529541015625, 762.7528686523438, 672.0697631835938, 648.0728759765625, 570.470947265625, 445.86785888671875, 647.26171875, 376.88421630859375, 219.0052947998047, 213.1654510498047, 179.69569396972656, 1064.4049072265625, 162.06112670898438, 137.4098663330078, 103.09043884277344, 101.74220275878906, 74.12764739990234, 62.49748611450195, 52.050086975097656, 50.83152389526367, 50.80314636230469, 48.62260818481445, 35.335636138916016, 31.496362686157227, 29.682106018066406, 1372.1181640625, 2698.87109375, 515.27783203125, 1594.2366943359375, 2108.158447265625, 683.0232543945312, 907.9575805664062, 2139.5009765625, 1587.9156494140625, 744.630615234375, 1747.3624267578125, 1781.9793701171875, 2393.31494140625, 1925.7349853515625, 2790.614990234375, 889.1843872070312, 3194.7919921875, 2499.221923828125, 1975.74072265625, 1804.6158447265625, 1371.4931640625, 1273.8167724609375, 598.6761474609375, 584.007568359375, 575.9757690429688, 553.5741577148438, 507.1334228515625, 474.27203369140625, 462.6777648925781, 355.5399475097656, 296.38140869140625, 239.7809600830078, 225.23989868164062, 222.853271484375, 220.30052185058594, 193.44979858398438, 188.30426025390625, 186.18191528320312, 176.078369140625, 173.41720581054688, 172.79132080078125, 167.14585876464844, 158.4289093017578, 157.5637969970703, 150.33578491210938, 112.98780059814453, 111.8860092163086, 110.06495666503906, 302.098876953125, 4625.908203125, 283.4574890136719, 1220.0999755859375, 2866.610107421875, 437.4436340332031, 2173.5390625, 480.9070739746094, 1604.5928955078125, 3679.8916015625, 3556.107666015625, 992.7564697265625, 959.6972045898438, 748.0556640625, 665.2114868164062, 657.3878173828125, 581.0370483398438, 525.9534301757812, 509.1251525878906, 447.39080810546875, 445.4770202636719, 438.7380065917969, 369.85662841796875, 351.37628173828125, 322.558349609375, 320.8397521972656, 282.76031494140625, 260.1537170410156, 248.529296875, 239.1859588623047, 238.85853576660156, 234.15379333496094, 224.97882080078125, 221.98268127441406, 214.70480346679688, 196.7631378173828, 196.54351806640625, 194.7791748046875, 178.31710815429688, 171.7293243408203, 170.2194061279297, 728.1556396484375, 543.6549682617188, 1887.95556640625, 961.913818359375, 512.4718627929688, 907.756103515625, 1059.6409912109375, 2466.9921875, 1363.00830078125, 1305.4515380859375, 700.4281005859375, 642.4160766601562, 594.6050415039062, 466.4312438964844, 432.0982971191406, 421.16357421875, 400.92822265625, 366.40234375, 295.3767395019531, 294.4443359375, 270.2939758300781, 235.239990234375, 229.6493682861328, 224.24574279785156, 191.25363159179688, 180.35452270507812, 174.13352966308594, 152.74534606933594, 149.4398193359375, 134.6525421142578, 133.87774658203125, 132.68814086914062, 131.91818237304688, 129.9669189453125, 128.69346618652344, 128.49212646484375, 124.41635131835938, 1497.1513671875, 362.5504455566406, 638.8601684570312, 2091.036865234375, 576.5125122070312, 384.3614501953125, 612.0248413085938, 801.7118530273438, 3466.6201171875, 5989.65087890625, 1426.73876953125, 1023.518798828125, 926.7791748046875, 704.14306640625, 485.228515625, 427.08612060546875, 402.47430419921875, 394.7503662109375, 321.3768310546875, 301.1656188964844, 257.51690673828125, 253.0298614501953, 243.23736572265625, 232.8433380126953, 197.67315673828125, 176.8508758544922, 168.68211364746094, 163.22357177734375, 157.25523376464844, 149.64625549316406, 144.78079223632812, 139.55419921875, 137.23577880859375, 118.65322875976562, 111.95118713378906, 95.15060424804688, 92.15603637695312, 91.22201538085938, 87.90149688720703, 78.85932159423828, 219.83226013183594, 186.24209594726562, 724.3193969726562, 241.99436950683594, 961.913818359375, 2551.019775390625, 1670.20654296875, 456.954833984375, 413.3457946777344, 305.5143737792969, 265.09600830078125, 235.031982421875, 181.7472686767578, 170.833984375, 159.6779327392578, 151.2301788330078, 131.86512756347656, 122.80218505859375, 116.5958480834961, 114.87053680419922, 103.68231201171875, 88.35801696777344, 88.03958892822266, 84.9598159790039, 82.31645202636719, 75.11366271972656, 60.39966583251953, 58.92744064331055, 51.227294921875, 49.78738784790039, 48.65434265136719, 47.311378479003906, 42.550262451171875, 39.06480026245117, 38.55434799194336, 307.8414611816406, 118.78565216064453, 298.8577575683594, 344.8665466308594, 421.8548889160156, 476.11077880859375, 358.12823486328125, 371.4031677246094, 813.8161010742188, 261.6367492675781, 1562.588623046875, 791.3124389648438, 741.0670776367188, 801.707763671875, 1327.0390625, 1306.1488037109375, 1327.8948974609375, 1003.1939086914062, 695.9719848632812, 602.3138427734375, 525.8009643554688, 504.88433837890625, 424.8067932128906, 386.2571105957031, 373.82421875, 287.15447998046875, 284.17327880859375, 275.59405517578125, 264.35406494140625, 252.89759826660156, 191.40907287597656, 190.33880615234375, 189.45713806152344, 169.64178466796875, 141.50428771972656, 119.4170150756836, 115.73429107666016, 112.3086166381836, 110.89945983886719, 107.02861785888672, 104.97676849365234, 98.8400650024414, 63.42106246948242, 60.14961242675781, 43.49100112915039, 35.426551818847656, 271.0982971191406, 240.5811004638672, 458.49755859375, 612.0248413085938, 306.5941162109375, 813.8161010742188, 2717.31591796875, 2300.49169921875, 506.7581481933594, 443.1522521972656, 278.1397705078125, 258.86767578125, 233.30702209472656, 214.90858459472656, 189.1903839111328, 168.44752502441406, 152.02207946777344, 144.6109619140625, 129.4059295654297, 124.52076721191406, 110.88546752929688, 82.8503646850586, 70.56571960449219, 59.140140533447266, 51.667457580566406, 40.52810287475586, 18.009132385253906, 461.1285400390625, 14.434422492980957, 587.3666381835938, 1.2388858795166016, 1.2388436794281006, 1.2388403415679932, 1.23883855342865, 1.2388359308242798, 1.238835096359253, 2273.118896484375, 1062.143798828125, 541.9866333007812, 413.18695068359375, 405.0489501953125, 367.8712158203125, 355.0397644042969, 344.6590881347656, 336.9609375, 252.3920440673828, 252.20339965820312, 243.00083923339844, 240.98214721679688, 212.25274658203125, 207.3767852783203, 203.35057067871094, 190.36448669433594, 187.73301696777344, 185.5947723388672, 184.74935913085938, 173.4231719970703, 172.7966766357422, 156.6765899658203, 156.37391662597656, 155.7495574951172, 132.95516967773438, 121.3444595336914, 116.88093566894531, 116.77711486816406, 107.82453918457031, 102.1630630493164, 254.90936279296875, 233.43368530273438, 528.849609375, 469.0948181152344, 435.6104736328125, 365.7434387207031, 314.4886474609375, 298.13458251953125, 261.1108703613281, 254.7158203125, 227.45416259765625, 182.32725524902344, 175.799560546875, 170.39996337890625, 150.93887329101562, 131.57498168945312, 130.01422119140625, 126.887939453125, 99.41532897949219, 97.31147766113281, 90.79621124267578, 83.412353515625, 83.05088806152344, 73.74710083007812, 71.12617492675781, 70.49784088134766, 63.22770690917969, 60.37293243408203, 57.02764129638672, 53.93450927734375, 53.58854675292969, 50.70799255371094, 724.3193969726562, 147.21432495117188, 481.0458679199219, 686.2896728515625, 422.5754699707031, 369.1828918457031, 325.7662658691406, 314.89996337890625, 297.8760070800781, 292.55419921875, 217.41064453125, 204.33599853515625, 197.158203125, 186.6770477294922, 179.38856506347656, 159.00082397460938, 142.57777404785156, 132.38255310058594, 131.4862823486328, 119.72696685791016, 110.20613861083984, 107.59698486328125, 106.58832550048828, 96.70146179199219, 88.86443328857422, 87.53971862792969, 83.42594909667969, 80.20784759521484, 67.30364227294922, 63.33464050292969, 62.33770751953125, 60.51698684692383, 53.805355072021484, 261.6367492675781, 379.7599792480469, 623.6746215820312, 503.85614013671875, 408.6688537597656, 380.2138671875, 348.9591979980469, 322.52801513671875, 317.15252685546875, 288.5486755371094, 242.8666534423828, 224.45750427246094, 157.2500457763672, 156.0901336669922, 149.9918670654297, 146.55970764160156, 124.7010498046875, 115.72654724121094, 107.38382720947266, 106.3408203125, 104.62964630126953, 88.42837524414062, 82.78681945800781, 80.9100341796875, 78.76677703857422, 78.07450866699219, 67.8858642578125, 66.29578399658203, 57.51725769042969, 55.06233596801758, 48.405181884765625, 47.22237014770508, 44.24446105957031, 459.5335388183594, 592.0443725585938, 517.8189086914062, 354.29052734375, 348.0734558105469, 246.62591552734375, 235.76492309570312, 222.23797607421875, 221.96316528320312, 157.8907928466797, 155.9993896484375, 145.1796875, 144.71861267089844, 119.2487564086914, 111.58135223388672, 104.12606811523438, 88.07914733886719, 84.22128295898438, 76.38705444335938, 74.0433578491211, 67.27110290527344, 63.515953063964844, 61.46289825439453, 58.568077087402344, 52.28194808959961, 50.6817626953125, 49.59465026855469, 49.42610168457031, 45.73902130126953, 34.26459503173828, 34.124080657958984, 453.2586364746094, 339.7295837402344, 337.60736083984375, 224.47889709472656, 190.4377899169922, 133.6741485595703, 125.52194213867188, 115.35872650146484, 109.42430114746094, 105.38068389892578, 99.72482299804688, 77.64915466308594, 77.5181655883789, 71.22615051269531, 57.49231719970703, 55.46262741088867, 46.833396911621094, 41.381927490234375, 39.30818176269531, 31.04922103881836, 30.707929611206055, 28.500574111938477, 20.064382553100586, 19.681625366210938, 19.052017211914062, 9.665841102600098, 7.124868869781494, 1.6960288286209106, 213.48875427246094, 461.1285400390625, 134.033935546875, 56.45250701904297, 34.14453125, 17.944122314453125, 12.485612869262695, 1.3857033252716064, 1.238964557647705, 1.2388391494750977, 1.2388392686843872, 1.2388396263122559, 1.238839030265808, 1.238844871520996, 1.2389286756515503, 1.238840103149414, 1.2388248443603516, 1.2388372421264648, 1.2388322353363037, 1.2388241291046143, 1.2388253211975098, 1.2388460636138916, 1.2388248443603516, 1.2388272285461426, 1.2388277053833008, 1.2388328313827515, 1.2388389110565186, 1.2388341426849365, 1.238826036453247, 1.2388231754302979, 1.2388231754302979, 1.2388242483139038, 1.2388352155685425, 1.2388581037521362, 1.238829493522644, 1.2388495206832886, 1.2388434410095215, 1.2388510704040527, 1.2388553619384766, 1.2389087677001953, 1.2388625144958496, 1.2389378547668457, 1.238866925239563, 1.2389843463897705], \"Category\": [\"Default\", \"Default\", \"Default\", \"Default\", \"Default\", \"Default\", \"Default\", \"Default\", \"Default\", \"Default\", \"Default\", \"Default\", \"Default\", \"Default\", \"Default\", \"Default\", \"Default\", \"Default\", \"Default\", \"Default\", \"Default\", \"Default\", \"Default\", \"Default\", \"Default\", \"Default\", \"Default\", \"Default\", \"Default\", \"Default\", \"Topic1\", \"Topic1\", \"Topic1\", \"Topic1\", \"Topic1\", \"Topic1\", \"Topic1\", \"Topic1\", \"Topic1\", \"Topic1\", \"Topic1\", \"Topic1\", \"Topic1\", \"Topic1\", \"Topic1\", \"Topic1\", \"Topic1\", \"Topic1\", \"Topic1\", \"Topic1\", \"Topic1\", \"Topic1\", \"Topic1\", \"Topic1\", \"Topic1\", \"Topic1\", \"Topic1\", \"Topic1\", \"Topic1\", \"Topic1\", \"Topic1\", \"Topic1\", \"Topic1\", \"Topic1\", \"Topic1\", \"Topic1\", \"Topic1\", \"Topic1\", \"Topic1\", \"Topic1\", \"Topic1\", \"Topic1\", \"Topic1\", \"Topic1\", \"Topic1\", \"Topic1\", \"Topic1\", \"Topic1\", \"Topic1\", \"Topic1\", \"Topic1\", \"Topic1\", \"Topic1\", \"Topic1\", \"Topic2\", \"Topic2\", \"Topic2\", \"Topic2\", \"Topic2\", \"Topic2\", \"Topic2\", \"Topic2\", \"Topic2\", \"Topic2\", \"Topic2\", \"Topic2\", \"Topic2\", \"Topic2\", \"Topic2\", \"Topic2\", \"Topic2\", \"Topic2\", \"Topic2\", \"Topic2\", \"Topic2\", \"Topic2\", \"Topic2\", \"Topic2\", \"Topic2\", \"Topic2\", \"Topic2\", \"Topic2\", \"Topic2\", \"Topic2\", \"Topic2\", \"Topic2\", \"Topic2\", \"Topic2\", \"Topic2\", \"Topic2\", \"Topic2\", \"Topic2\", \"Topic2\", \"Topic2\", \"Topic2\", \"Topic2\", \"Topic2\", \"Topic2\", \"Topic2\", \"Topic2\", \"Topic2\", \"Topic2\", \"Topic2\", \"Topic2\", \"Topic2\", \"Topic2\", \"Topic2\", \"Topic2\", \"Topic2\", \"Topic2\", \"Topic2\", \"Topic2\", \"Topic2\", \"Topic2\", \"Topic2\", \"Topic2\", \"Topic3\", \"Topic3\", \"Topic3\", \"Topic3\", \"Topic3\", \"Topic3\", \"Topic3\", \"Topic3\", \"Topic3\", \"Topic3\", \"Topic3\", \"Topic3\", \"Topic3\", \"Topic3\", \"Topic3\", \"Topic3\", \"Topic3\", \"Topic3\", \"Topic3\", \"Topic3\", \"Topic3\", \"Topic3\", \"Topic3\", \"Topic3\", \"Topic3\", \"Topic3\", \"Topic3\", \"Topic3\", \"Topic3\", \"Topic3\", \"Topic3\", \"Topic3\", \"Topic3\", \"Topic3\", \"Topic3\", \"Topic3\", \"Topic3\", \"Topic3\", \"Topic3\", \"Topic3\", \"Topic3\", \"Topic3\", \"Topic3\", \"Topic3\", \"Topic3\", \"Topic3\", \"Topic3\", \"Topic3\", \"Topic3\", \"Topic3\", \"Topic3\", \"Topic3\", \"Topic3\", \"Topic3\", \"Topic4\", \"Topic4\", \"Topic4\", \"Topic4\", \"Topic4\", \"Topic4\", \"Topic4\", \"Topic4\", \"Topic4\", \"Topic4\", \"Topic4\", \"Topic4\", \"Topic4\", \"Topic4\", \"Topic4\", \"Topic4\", \"Topic4\", \"Topic4\", \"Topic4\", \"Topic4\", \"Topic4\", \"Topic4\", \"Topic4\", \"Topic4\", \"Topic4\", \"Topic4\", \"Topic4\", \"Topic4\", \"Topic4\", \"Topic4\", \"Topic4\", \"Topic4\", \"Topic4\", \"Topic4\", \"Topic4\", \"Topic4\", \"Topic4\", \"Topic4\", \"Topic4\", \"Topic4\", \"Topic4\", \"Topic4\", \"Topic4\", \"Topic4\", \"Topic4\", \"Topic4\", \"Topic5\", \"Topic5\", \"Topic5\", \"Topic5\", \"Topic5\", \"Topic5\", \"Topic5\", \"Topic5\", \"Topic5\", \"Topic5\", \"Topic5\", \"Topic5\", \"Topic5\", \"Topic5\", \"Topic5\", \"Topic5\", \"Topic5\", \"Topic5\", \"Topic5\", \"Topic5\", \"Topic5\", \"Topic5\", \"Topic5\", \"Topic5\", \"Topic5\", \"Topic5\", \"Topic5\", \"Topic5\", \"Topic5\", \"Topic5\", \"Topic5\", \"Topic5\", \"Topic5\", \"Topic5\", \"Topic5\", \"Topic5\", \"Topic5\", \"Topic5\", \"Topic5\", \"Topic5\", \"Topic5\", \"Topic5\", \"Topic5\", \"Topic5\", \"Topic5\", \"Topic6\", \"Topic6\", \"Topic6\", \"Topic6\", \"Topic6\", \"Topic6\", \"Topic6\", \"Topic6\", \"Topic6\", \"Topic6\", \"Topic6\", \"Topic6\", \"Topic6\", \"Topic6\", \"Topic6\", \"Topic6\", \"Topic6\", \"Topic6\", \"Topic6\", \"Topic6\", \"Topic6\", \"Topic6\", \"Topic6\", \"Topic6\", \"Topic6\", \"Topic6\", \"Topic6\", \"Topic6\", \"Topic6\", \"Topic6\", \"Topic6\", \"Topic6\", \"Topic6\", \"Topic6\", \"Topic6\", \"Topic6\", \"Topic6\", \"Topic6\", \"Topic6\", \"Topic6\", \"Topic6\", \"Topic6\", \"Topic6\", \"Topic6\", \"Topic6\", \"Topic6\", \"Topic6\", \"Topic6\", \"Topic7\", \"Topic7\", \"Topic7\", \"Topic7\", \"Topic7\", \"Topic7\", \"Topic7\", \"Topic7\", \"Topic7\", \"Topic7\", \"Topic7\", \"Topic7\", \"Topic7\", \"Topic7\", \"Topic7\", \"Topic7\", \"Topic7\", \"Topic7\", \"Topic7\", \"Topic7\", \"Topic7\", \"Topic7\", \"Topic7\", \"Topic7\", \"Topic7\", \"Topic7\", \"Topic7\", \"Topic7\", \"Topic7\", \"Topic7\", \"Topic7\", \"Topic7\", \"Topic7\", \"Topic7\", \"Topic7\", \"Topic7\", \"Topic7\", \"Topic7\", \"Topic7\", \"Topic7\", \"Topic7\", \"Topic8\", \"Topic8\", \"Topic8\", \"Topic8\", \"Topic8\", \"Topic8\", \"Topic8\", \"Topic8\", \"Topic8\", \"Topic8\", \"Topic8\", \"Topic8\", \"Topic8\", \"Topic8\", \"Topic8\", \"Topic8\", \"Topic8\", \"Topic8\", \"Topic8\", \"Topic8\", \"Topic8\", \"Topic8\", \"Topic8\", \"Topic8\", \"Topic8\", \"Topic8\", \"Topic8\", \"Topic8\", \"Topic8\", \"Topic8\", \"Topic8\", \"Topic8\", \"Topic8\", \"Topic8\", \"Topic8\", \"Topic8\", \"Topic8\", \"Topic9\", \"Topic9\", \"Topic9\", \"Topic9\", \"Topic9\", \"Topic9\", \"Topic9\", \"Topic9\", \"Topic9\", \"Topic9\", \"Topic9\", \"Topic9\", \"Topic9\", \"Topic9\", \"Topic9\", \"Topic9\", \"Topic9\", \"Topic9\", \"Topic9\", \"Topic9\", \"Topic9\", \"Topic9\", \"Topic9\", \"Topic9\", \"Topic9\", \"Topic9\", \"Topic9\", \"Topic9\", \"Topic9\", \"Topic9\", \"Topic9\", \"Topic9\", \"Topic9\", \"Topic9\", \"Topic9\", \"Topic9\", \"Topic9\", \"Topic9\", \"Topic9\", \"Topic9\", \"Topic10\", \"Topic10\", \"Topic10\", \"Topic10\", \"Topic10\", \"Topic10\", \"Topic10\", \"Topic10\", \"Topic10\", \"Topic10\", \"Topic10\", \"Topic10\", \"Topic10\", \"Topic10\", \"Topic10\", \"Topic10\", \"Topic10\", \"Topic10\", \"Topic10\", \"Topic10\", \"Topic10\", \"Topic10\", \"Topic10\", \"Topic10\", \"Topic10\", \"Topic10\", \"Topic10\", \"Topic10\", \"Topic10\", \"Topic10\", \"Topic10\", \"Topic10\", \"Topic10\", \"Topic10\", \"Topic10\", \"Topic11\", \"Topic11\", \"Topic11\", \"Topic11\", \"Topic11\", \"Topic11\", \"Topic11\", \"Topic11\", \"Topic11\", \"Topic11\", \"Topic11\", \"Topic11\", \"Topic11\", \"Topic11\", \"Topic11\", \"Topic11\", \"Topic11\", \"Topic11\", \"Topic11\", \"Topic11\", \"Topic11\", \"Topic11\", \"Topic11\", \"Topic11\", \"Topic11\", \"Topic11\", \"Topic11\", \"Topic11\", \"Topic11\", \"Topic11\", \"Topic11\", \"Topic11\", \"Topic11\", \"Topic11\", \"Topic11\", \"Topic11\", \"Topic11\", \"Topic11\", \"Topic11\", \"Topic11\", \"Topic11\", \"Topic11\", \"Topic11\", \"Topic11\", \"Topic11\", \"Topic11\", \"Topic12\", \"Topic12\", \"Topic12\", \"Topic12\", \"Topic12\", \"Topic12\", \"Topic12\", \"Topic12\", \"Topic12\", \"Topic12\", \"Topic12\", \"Topic12\", \"Topic12\", \"Topic12\", \"Topic12\", \"Topic12\", \"Topic12\", \"Topic12\", \"Topic12\", \"Topic12\", \"Topic12\", \"Topic12\", \"Topic12\", \"Topic12\", \"Topic12\", \"Topic12\", \"Topic12\", \"Topic12\", \"Topic12\", \"Topic12\", \"Topic12\", \"Topic12\", \"Topic12\", \"Topic12\", \"Topic12\", \"Topic12\", \"Topic13\", \"Topic13\", \"Topic13\", \"Topic13\", \"Topic13\", \"Topic13\", \"Topic13\", \"Topic13\", \"Topic13\", \"Topic13\", \"Topic13\", \"Topic13\", \"Topic13\", \"Topic13\", \"Topic13\", \"Topic13\", \"Topic13\", \"Topic13\", \"Topic13\", \"Topic13\", \"Topic13\", \"Topic13\", \"Topic13\", \"Topic13\", \"Topic13\", \"Topic13\", \"Topic13\", \"Topic13\", \"Topic13\", \"Topic13\", \"Topic13\", \"Topic14\", \"Topic14\", \"Topic14\", \"Topic14\", \"Topic14\", \"Topic14\", \"Topic14\", \"Topic14\", \"Topic14\", \"Topic14\", \"Topic14\", \"Topic14\", \"Topic14\", \"Topic14\", \"Topic14\", \"Topic14\", \"Topic14\", \"Topic14\", \"Topic14\", \"Topic14\", \"Topic14\", \"Topic14\", \"Topic14\", \"Topic14\", \"Topic14\", \"Topic14\", \"Topic14\", \"Topic14\", \"Topic14\", \"Topic14\", \"Topic14\", \"Topic14\", \"Topic15\", \"Topic15\", \"Topic15\", \"Topic15\", \"Topic15\", \"Topic15\", \"Topic15\", \"Topic15\", \"Topic15\", \"Topic15\", \"Topic15\", \"Topic15\", \"Topic15\", \"Topic15\", \"Topic15\", \"Topic15\", \"Topic15\", \"Topic15\", \"Topic15\", \"Topic15\", \"Topic15\", \"Topic15\", \"Topic15\", \"Topic15\", \"Topic15\", \"Topic15\", \"Topic15\", \"Topic15\", \"Topic15\", \"Topic15\", \"Topic15\", \"Topic15\", \"Topic15\", \"Topic16\", \"Topic16\", \"Topic16\", \"Topic16\", \"Topic16\", \"Topic16\", \"Topic16\", \"Topic16\", \"Topic16\", \"Topic16\", \"Topic16\", \"Topic16\", \"Topic16\", \"Topic16\", \"Topic16\", \"Topic16\", \"Topic16\", \"Topic16\", \"Topic16\", \"Topic16\", \"Topic16\", \"Topic16\", \"Topic16\", \"Topic16\", \"Topic16\", \"Topic16\", \"Topic16\", \"Topic16\", \"Topic16\", \"Topic16\", \"Topic16\", \"Topic16\", \"Topic16\", \"Topic17\", \"Topic17\", \"Topic17\", \"Topic17\", \"Topic17\", \"Topic17\", \"Topic17\", \"Topic17\", \"Topic17\", \"Topic17\", \"Topic17\", \"Topic17\", \"Topic17\", \"Topic17\", \"Topic17\", \"Topic17\", \"Topic17\", \"Topic17\", \"Topic17\", \"Topic17\", \"Topic17\", \"Topic17\", \"Topic17\", \"Topic17\", \"Topic17\", \"Topic17\", \"Topic17\", \"Topic17\", \"Topic17\", \"Topic17\", \"Topic17\", \"Topic18\", \"Topic18\", \"Topic18\", \"Topic18\", \"Topic18\", \"Topic18\", \"Topic18\", \"Topic18\", \"Topic18\", \"Topic18\", \"Topic18\", \"Topic18\", \"Topic18\", \"Topic18\", \"Topic18\", \"Topic18\", \"Topic18\", \"Topic18\", \"Topic18\", \"Topic18\", \"Topic18\", \"Topic18\", \"Topic18\", \"Topic18\", \"Topic18\", \"Topic18\", \"Topic18\", \"Topic18\", \"Topic18\", \"Topic18\", \"Topic19\", \"Topic19\", \"Topic19\", \"Topic19\", \"Topic19\", \"Topic19\", \"Topic19\", \"Topic19\", \"Topic19\", \"Topic19\", \"Topic19\", \"Topic19\", \"Topic19\", \"Topic19\", \"Topic19\", \"Topic19\", \"Topic19\", \"Topic19\", \"Topic19\", \"Topic19\", \"Topic19\", \"Topic19\", \"Topic19\", \"Topic19\", \"Topic19\", \"Topic19\", \"Topic19\", \"Topic19\", \"Topic19\", \"Topic19\", \"Topic20\", \"Topic20\", \"Topic20\", \"Topic20\", \"Topic20\", \"Topic20\", \"Topic20\", \"Topic20\", \"Topic20\", \"Topic20\", \"Topic20\", \"Topic20\", \"Topic20\", \"Topic20\", \"Topic20\", \"Topic20\", \"Topic20\", \"Topic20\", \"Topic20\", \"Topic20\", \"Topic20\", \"Topic20\", \"Topic20\", \"Topic20\", \"Topic20\", \"Topic20\", \"Topic20\", \"Topic20\", \"Topic20\", \"Topic20\", \"Topic20\", \"Topic20\", \"Topic20\", \"Topic20\", \"Topic20\", \"Topic20\", \"Topic20\", \"Topic20\", \"Topic20\", \"Topic20\", \"Topic20\", \"Topic20\"], \"logprob\": [30.0, 29.0, 28.0, 27.0, 26.0, 25.0, 24.0, 23.0, 22.0, 21.0, 20.0, 19.0, 18.0, 17.0, 16.0, 15.0, 14.0, 13.0, 12.0, 11.0, 10.0, 9.0, 8.0, 7.0, 6.0, 5.0, 4.0, 3.0, 2.0, 1.0, -3.410099983215332, -3.8529000282287598, -3.9839999675750732, -3.9951000213623047, -4.502099990844727, -4.655600070953369, -4.669099807739258, -4.914599895477295, -4.973599910736084, -5.053400039672852, -5.112400054931641, -5.253300189971924, -5.3069000244140625, -5.325200080871582, -5.357999801635742, -5.375400066375732, -5.65339994430542, -5.767199993133545, -5.769400119781494, -5.774700164794922, -5.817299842834473, -5.823400020599365, -5.842100143432617, -5.919000148773193, -6.088600158691406, -6.132999897003174, -6.1697001457214355, -6.180500030517578, -6.184299945831299, -6.2058000564575195, -4.046299934387207, -3.2486000061035156, -5.510900020599365, -4.403900146484375, -3.2829999923706055, -4.222799777984619, -4.44290018081665, -3.921099901199341, -4.754799842834473, -5.071000099182129, -5.1631999015808105, -4.732399940490723, -4.692500114440918, -4.595600128173828, -4.178100109100342, -4.398799896240234, -4.359300136566162, -4.728300094604492, -4.683000087738037, -4.297399997711182, -4.746699810028076, -4.973299980163574, -4.571100234985352, -4.932400226593018, -4.303100109100342, -4.806399822235107, -5.010200023651123, -5.0218000411987305, -5.055500030517578, -5.142300128936768, -5.182000160217285, -5.380000114440918, -5.4105000495910645, -5.455399990081787, -5.494800090789795, -5.533699989318848, -5.572400093078613, -5.641600131988525, -5.754300117492676, -5.792200088500977, -5.7957000732421875, -5.866199970245361, -5.8730998039245605, -5.902400016784668, -5.912799835205078, -5.928500175476074, -5.928800106048584, -5.946899890899658, -5.960599899291992, -6.002099990844727, -6.0100998878479, -6.012700080871582, -6.048500061035156, -6.048999786376953, -4.703199863433838, -5.181600093841553, -5.439499855041504, -5.055699825286865, -5.419600009918213, -5.337600231170654, -4.317699909210205, -5.498000144958496, -5.515699863433838, -5.232600212097168, -5.148799896240234, -5.201600074768066, -4.991099834442139, -4.111999988555908, -3.8907999992370605, -5.395400047302246, -4.928100109100342, -4.039899826049805, -4.918300151824951, -5.289999961853027, -4.9475998878479, -5.128300189971924, -5.03000020980835, -4.300899982452393, -4.95419979095459, -4.773200035095215, -4.812900066375732, -5.1097002029418945, -5.188600063323975, -5.029699802398682, -5.12470006942749, -5.092899799346924, -4.026100158691406, -4.1656999588012695, -4.440700054168701, -4.495500087738037, -4.650599956512451, -4.679200172424316, -4.735899925231934, -4.752200126647949, -4.8572998046875, -4.987299919128418, -5.14870023727417, -5.149499893188477, -5.197800159454346, -5.247799873352051, -5.264599800109863, -5.347599983215332, -5.366300106048584, -5.375999927520752, -5.3850998878479, -5.539700031280518, -5.569699764251709, -5.594799995422363, -5.620699882507324, -5.653200149536133, -5.662300109863281, -5.672999858856201, -5.7754998207092285, -5.789999961853027, -5.7972002029418945, -5.9070000648498535, -4.032899856567383, -5.269599914550781, -4.725900173187256, -5.018499851226807, -4.450099945068359, -3.5085999965667725, -5.197299957275391, -4.488100051879883, -5.144800186157227, -3.773400068283081, -5.040200233459473, -4.917500019073486, -4.49970006942749, -4.823200225830078, -4.257699966430664, -4.732500076293945, -4.718100070953369, -5.115200042724609, -4.8429999351501465, -4.946400165557861, -4.684800148010254, -5.010000228881836, -5.077899932861328, -4.981100082397461, -3.2964000701904297, -3.390500068664551, -3.9388999938964844, -4.0040998458862305, -4.059599876403809, -4.114099979400635, -4.118800163269043, -4.135000228881836, -4.1483001708984375, -4.246099948883057, -4.246500015258789, -4.27810001373291, -4.327600002288818, -4.359899997711182, -4.432799816131592, -4.817200183868408, -4.839700222015381, -4.915200233459473, -4.948299884796143, -4.974899768829346, -5.0543999671936035, -5.146100044250488, -5.191999912261963, -5.278600215911865, -5.2866997718811035, -5.378600120544434, -5.594900131225586, -5.646100044250488, -5.663899898529053, -5.700399875640869, -3.813499927520752, -3.736299991607666, -3.7253000736236572, -3.6092000007629395, -4.034299850463867, -4.232800006866455, -3.895699977874756, -4.350800037384033, -3.6677000522613525, -3.4686999320983887, -3.565000057220459, -3.705199956893921, -4.557400226593018, -3.7411000728607178, -4.347599983215332, -3.995500087738037, -3.4544999599456787, -4.131899833679199, -4.15939998626709, -4.220099925994873, -4.259900093078613, -4.357999801635742, -4.361599922180176, -4.432799816131592, -4.463900089263916, -4.729499816894531, -4.826499938964844, -4.834400177001953, -4.872399806976318, -4.885000228881836, -4.88730001449585, -4.894199848175049, -4.942200183868408, -4.989799976348877, -5.03439998626709, -5.046800136566162, -5.071300029754639, -5.091899871826172, -5.2677998542785645, -5.2733001708984375, -5.323200225830078, -5.348999977111816, -5.420400142669678, -5.457900047302246, -5.462699890136719, -5.484099864959717, -4.1809000968933105, -4.515100002288818, -5.010900020599365, -4.0233001708984375, -4.081299781799316, -3.733799934387207, -3.9588000774383545, -3.759399890899658, -4.389200210571289, -4.420100212097168, -3.815200090408325, -4.94920015335083, -4.558899879455566, -4.851600170135498, -4.910999774932861, -2.782599925994873, -2.8285000324249268, -3.468400001525879, -3.5373001098632812, -3.5896999835968018, -3.649899959564209, -3.957200050354004, -4.083899974822998, -4.1203999519348145, -4.2480998039245605, -4.495200157165527, -4.122499942779541, -4.663700103759766, -5.208799839019775, -5.236000061035156, -5.407800197601318, -3.6291000843048096, -5.5117998123168945, -5.678100109100342, -5.968299865722656, -5.981599807739258, -6.302599906921387, -6.47629976272583, -6.663000106811523, -6.68720006942749, -6.68779993057251, -6.732699871063232, -7.061200141906738, -7.1803998947143555, -7.242099761962891, -3.4107000827789307, -2.7762999534606934, -4.451099872589111, -3.3645999431610107, -3.101099967956543, -4.208499908447266, -3.9421000480651855, -3.1547999382019043, -3.6545000076293945, -4.336999893188477, -3.6410000324249268, -4.039999961853027, -3.9832000732421875, -4.219799995422363, -4.148900032043457, -4.639999866485596, -4.413899898529053, -4.61359977722168, -2.5478999614715576, -2.6386001110076904, -2.913300037384033, -2.9872000217437744, -3.743299961090088, -3.768199920654297, -3.7820000648498535, -3.8217999935150146, -3.909600019454956, -3.976799964904785, -4.0015997886657715, -4.265699863433838, -4.448400020599365, -4.661200046539307, -4.724100112915039, -4.734799861907959, -4.746399879455566, -4.877099990844727, -4.904300212860107, -4.9156999588012695, -4.971799850463867, -4.987199783325195, -4.990799903869629, -5.024199962615967, -5.078199863433838, -5.083700180053711, -5.13100004196167, -5.4191999435424805, -5.429100036621094, -5.445700168609619, -4.582799911499023, -2.891700029373169, -4.799900054931641, -4.105999946594238, -3.800299882888794, -4.661499977111816, -4.047699928283691, -4.664000034332275, -4.440400123596191, -4.303800106048584, -4.614299774169922, -3.2084999084472656, -3.2423999309539795, -3.4918999671936035, -3.609499931335449, -3.6214001178741455, -3.7451000213623047, -3.844899892807007, -3.877500057220459, -4.006999969482422, -4.011300086975098, -4.026599884033203, -4.19789981842041, -4.249300003051758, -4.33519983291626, -4.34060001373291, -4.467400074005127, -4.55109977722168, -4.5970001220703125, -4.635499954223633, -4.636899948120117, -4.656899929046631, -4.6971001625061035, -4.710599899291992, -4.744100093841553, -4.8317999839782715, -4.833000183105469, -4.8420000076293945, -4.9309000968933105, -4.968800067901611, -4.977700233459473, -3.526400089263916, -3.8552000522613525, -2.736999988555908, -3.3703999519348145, -4.087500095367432, -4.3867998123168945, -4.429999828338623, -2.2702999114990234, -2.864000082015991, -2.9072000980377197, -3.530600070953369, -3.6171998977661133, -3.694700002670288, -3.937999963760376, -4.014699935913086, -4.04040002822876, -4.089799880981445, -4.180099964141846, -4.396299839019775, -4.399499893188477, -4.485400199890137, -4.625, -4.649199962615967, -4.673099994659424, -4.833199977874756, -4.892199993133545, -4.927499771118164, -5.059599876403809, -5.081600189208984, -5.186699867248535, -5.192500114440918, -5.201499938964844, -5.207399845123291, -5.222400188446045, -5.2322998046875, -5.23390007019043, -5.266499996185303, -3.0634000301361084, -4.441299915313721, -4.051499843597412, -3.187299966812134, -4.23829984664917, -4.732699871063232, -4.780200004577637, -4.741199970245361, -4.730199813842773, -4.9847002029418945, -2.349100112915039, -2.68149995803833, -2.780900001525879, -3.0560998916625977, -3.4291999340057373, -3.5571999549865723, -3.6166999340057373, -3.6361000537872314, -3.842400074005127, -3.907599925994873, -4.064899921417236, -4.082499980926514, -4.122200012207031, -4.166100025177002, -4.330699920654297, -4.442800045013428, -4.4903998374938965, -4.523499965667725, -4.560999870300293, -4.611000061035156, -4.6442999839782715, -4.681399822235107, -4.698299884796143, -4.845099925994873, -4.903900146484375, -5.068399906158447, -5.100800037384033, -5.111100196838379, -5.148600101470947, -5.258800029754639, -4.260200023651123, -4.717599868774414, -3.969399929046631, -4.82390022277832, -4.849899768829346, -1.7059999704360962, -2.1298000812530518, -3.427799940109253, -3.52839994430542, -3.831700086593628, -3.9742000102996826, -4.095099925994873, -4.353700160980225, -4.416100025177002, -4.484099864959717, -4.538899898529053, -4.677000045776367, -4.748899936676025, -4.801300048828125, -4.816299915313721, -4.919899940490723, -5.081900119781494, -5.0854997634887695, -5.121600151062012, -5.15369987487793, -5.246699810028076, -5.468599796295166, -5.493800163269043, -5.636899948120117, -5.666100025177002, -5.689700126647949, -5.718400001525879, -5.827300071716309, -5.915299892425537, -5.928899765014648, -3.8910000324249268, -4.860300064086914, -4.174099922180176, -4.216300010681152, -4.071100234985352, -4.15369987487793, -4.396599769592285, -4.469699859619141, -4.179900169372559, -4.742099761962891, -4.0329999923706055, -4.360199928283691, -4.390699863433838, -4.468599796295166, -4.679800033569336, -4.741700172424316, -2.3210999965667725, -2.601799964904785, -2.9679999351501465, -3.112799882888794, -3.2488999366760254, -3.289599895477295, -3.4626998901367188, -3.558199882507324, -3.5910000801086426, -3.8557000160217285, -3.8661999702453613, -3.8970000743865967, -3.938800096511841, -3.983299970626831, -4.263400077819824, -4.269000053405762, -4.27370023727417, -4.384900093078613, -4.567599773406982, -4.738900184631348, -4.770500183105469, -4.800899982452393, -4.813600063323975, -4.849599838256836, -4.869100093841553, -4.930099964141846, -5.380499839782715, -5.434500217437744, -5.76639986038208, -5.97790002822876, -4.087800025939941, -4.205699920654297, -3.6981000900268555, -3.49429988861084, -4.8130998611450195, -4.7403998374938965, -1.5390000343322754, -1.7056000232696533, -3.2202000617980957, -3.3547000885009766, -3.822000026702881, -3.8940999507904053, -3.998500108718872, -4.081099987030029, -4.2093000411987305, -4.326200008392334, -4.429500102996826, -4.479899883270264, -4.591899871826172, -4.630799770355225, -4.747900009155273, -5.042900085449219, -5.2058000564575195, -5.385700225830078, -5.523600101470947, -5.77269983291626, -6.6209001541137695, -3.3803000450134277, -6.8592000007629395, -3.643699884414673, -11.837800025939941, -11.837900161743164, -11.837900161743164, -11.837900161743164, -11.837900161743164, -11.838000297546387, -7.21999979019165, -2.4674999713897705, -3.1412999629974365, -3.413300037384033, -3.433300018310547, -3.529900074005127, -3.565500020980835, -3.5952000617980957, -3.6178998947143555, -3.908099889755249, -3.908799886703491, -3.946199893951416, -3.9544999599456787, -4.082200050354004, -4.105500221252441, -4.125199794769287, -4.1915998458862305, -4.205599784851074, -4.217199802398682, -4.221799850463867, -4.285399913787842, -4.289100170135498, -4.387700080871582, -4.389699935913086, -4.393700122833252, -4.553199768066406, -4.645500183105469, -4.683300018310547, -4.684199810028076, -4.764800071716309, -4.819399833679199, -4.075799942016602, -4.43120002746582, -2.8092000484466553, -2.9293999671936035, -3.003700017929077, -3.178999900817871, -3.3304998874664307, -3.3840999603271484, -3.5172998905181885, -3.5422000885009766, -3.655900001525879, -3.8784000873565674, -3.91510009765625, -3.946500062942505, -4.068699836730957, -4.207099914550781, -4.219200134277344, -4.24370002746582, -4.490300178527832, -4.51200008392334, -4.582099914550781, -4.668099880218506, -4.672500133514404, -4.7932000160217285, -4.829899787902832, -4.839000225067139, -4.94980001449585, -4.9969000816345215, -5.054999828338623, -5.111999988555908, -5.118599891662598, -5.175099849700928, -3.260699987411499, -4.611999988555908, -5.017199993133545, -2.490600109100342, -2.976599931716919, -3.1120998859405518, -3.237600088119507, -3.271699905395508, -3.327500104904175, -3.345599889755249, -3.643899917602539, -3.706199884414673, -3.7421998977661133, -3.7971999645233154, -3.8371999263763428, -3.958699941635132, -4.068600177764893, -4.143499851226807, -4.150300025939941, -4.244900226593018, -4.32859992980957, -4.35290002822876, -4.362400054931641, -4.460899829864502, -4.546500205993652, -4.561699867248535, -4.610499858856201, -4.650400161743164, -4.828700065612793, -4.890600204467773, -4.906799793243408, -4.936999797821045, -5.05709981918335, -4.09250020980835, -4.797800064086914, -4.832399845123291, -2.7325000762939453, -2.9423999786376953, -3.0148000717163086, -3.1008999347686768, -3.1798999309539795, -3.1967999935150146, -3.2916998863220215, -3.4647998809814453, -3.5439999103546143, -3.902100086212158, -3.909600019454956, -3.9498000144958496, -3.973099946975708, -4.136000156402588, -4.21150016784668, -4.287099838256836, -4.296999931335449, -4.313399791717529, -4.483699798583984, -4.55049991607666, -4.573800086975098, -4.601099967956543, -4.610000133514404, -4.752200126647949, -4.776299953460693, -4.92110013961792, -4.965700149536133, -5.097499847412109, -5.122900009155273, -5.189799785614014, -3.267899990081787, -2.4460999965667725, -2.5803000926971436, -2.960900068283081, -2.9786999225616455, -3.3245999813079834, -3.3698999881744385, -3.42930006980896, -3.430500030517578, -3.7732999324798584, -3.785399913787842, -3.8578999042510986, -3.8610999584198, -4.056399822235107, -4.123600006103516, -4.19350004196167, -4.36299991607666, -4.408400058746338, -4.507500171661377, -4.539100170135498, -4.63670015335083, -4.695199966430664, -4.728700160980225, -4.777900218963623, -4.893899917602539, -4.9257001876831055, -4.947999954223633, -4.951399803161621, -5.030900001525879, -5.328700065612793, -5.333000183105469, -2.334399938583374, -2.6236000061035156, -2.6298999786376953, -3.039799928665161, -3.205199956893921, -3.561800003051758, -3.6252999305725098, -3.710599899291992, -3.7639999389648438, -3.8020999431610107, -3.8578999042510986, -4.111599922180176, -4.11329984664917, -4.1992998123168945, -4.417600154876709, -4.4542999267578125, -4.627500057220459, -4.754700183868408, -4.807700157165527, -5.0518999099731445, -5.063399791717529, -5.14109992980957, -5.510700225830078, -5.531199932098389, -5.565800189971924, -6.311600208282471, -6.6682000160217285, -9.138500213623047, -4.369200229644775, -5.073400020599365, -2.042799949645996, -2.9202001094818115, -3.4375, -4.1149001121521, -4.509900093078613, -8.724200248718262, -10.860199928283691, -10.860400199890137, -10.860400199890137, -10.860400199890137, -10.860400199890137, -10.860400199890137, -10.860400199890137, -10.86050033569336, -10.86050033569336, -10.86050033569336, -10.86050033569336, -10.86050033569336, -10.86050033569336, -10.86050033569336, -10.86050033569336, -10.86050033569336, -10.86050033569336, -10.86050033569336, -10.86050033569336, -10.86050033569336, -10.86050033569336, -10.86050033569336, -10.86050033569336, -10.86050033569336, -10.86050033569336, -10.86050033569336, -10.86050033569336, -10.86050033569336, -10.86050033569336, -10.86050033569336, -10.86050033569336, -10.86050033569336, -10.86050033569336, -10.86050033569336, -10.86050033569336, -10.86050033569336], \"loglift\": [30.0, 29.0, 28.0, 27.0, 26.0, 25.0, 24.0, 23.0, 22.0, 21.0, 20.0, 19.0, 18.0, 17.0, 16.0, 15.0, 14.0, 13.0, 12.0, 11.0, 10.0, 9.0, 8.0, 7.0, 6.0, 5.0, 4.0, 3.0, 2.0, 1.0, 1.0218000411987305, 1.0217000246047974, 1.0217000246047974, 1.0217000246047974, 1.0216000080108643, 1.0216000080108643, 1.0216000080108643, 1.0214999914169312, 1.0214999914169312, 1.021399974822998, 1.021399974822998, 1.021299958229065, 1.021299958229065, 1.021299958229065, 1.021299958229065, 1.021299958229065, 1.0211000442504883, 1.0210000276565552, 1.0210000276565552, 1.0210000276565552, 1.020900011062622, 1.020900011062622, 1.020900011062622, 1.020799994468689, 1.0205999612808228, 1.0205999612808228, 1.0204999446868896, 1.0204999446868896, 1.0204999446868896, 1.0204999446868896, 1.0118999481201172, 0.998199999332428, 1.017799973487854, 1.0056999921798706, 0.982200026512146, 0.9966999888420105, 0.9968000054359436, 0.9699000120162964, 0.982200026512146, 0.991599977016449, 0.9908999800682068, 0.9412999749183655, 0.9279999732971191, 0.9133999943733215, 0.8402000069618225, 0.8690000176429749, 0.830299973487854, 0.869700014591217, 0.8215000033378601, 0.664900004863739, 0.7932000160217285, 0.8959000110626221, 0.3093000054359436, 0.7258999943733215, 1.6051000356674194, 1.6049000024795532, 1.6047999858856201, 1.604699969291687, 1.604699969291687, 1.604599952697754, 1.604599952697754, 1.6044000387191772, 1.6044000387191772, 1.6043000221252441, 1.6043000221252441, 1.604200005531311, 1.604200005531311, 1.604099988937378, 1.6038999557495117, 1.6038000583648682, 1.6038000583648682, 1.603700041770935, 1.603700041770935, 1.603600025177002, 1.603600025177002, 1.603600025177002, 1.603600025177002, 1.603600025177002, 1.6035000085830688, 1.6033999919891357, 1.6033999919891357, 1.6033999919891357, 1.6032999753952026, 1.6032999753952026, 1.6016000509262085, 1.5967999696731567, 1.590499997138977, 1.5688999891281128, 1.5779999494552612, 1.5687999725341797, 1.4924999475479126, 1.5719000101089478, 1.5705000162124634, 1.5449999570846558, 1.5326000452041626, 1.5364999771118164, 1.5038000345230103, 1.3854999542236328, 1.3483999967575073, 1.5492000579833984, 1.434999942779541, 1.2192000150680542, 1.410099983215332, 1.5096999406814575, 1.3847999572753906, 1.4285000562667847, 1.3768999576568604, 0.7405999898910522, 1.202299952507019, 0.7415000200271606, 0.7635999917984009, 1.0983999967575073, 1.2419999837875366, 0.8773999810218811, 0.9169999957084656, 0.633400022983551, 1.8324999809265137, 1.8323999643325806, 1.8322999477386475, 1.832200050354004, 1.8321000337600708, 1.8321000337600708, 1.8321000337600708, 1.8321000337600708, 1.8320000171661377, 1.8319000005722046, 1.8316999673843384, 1.8316999673843384, 1.8316999673843384, 1.8315999507904053, 1.8315999507904053, 1.8315000534057617, 1.8314000368118286, 1.8314000368118286, 1.8314000368118286, 1.8312000036239624, 1.8310999870300293, 1.8310999870300293, 1.8309999704360962, 1.8309999704360962, 1.8309999704360962, 1.830899953842163, 1.8307000398635864, 1.8307000398635864, 1.8307000398635864, 1.830399990081787, 1.805999994277954, 1.808899998664856, 1.756600022315979, 1.7725000381469727, 1.7065000534057617, 1.5044000148773193, 1.760200023651123, 1.545799970626831, 1.6576000452041626, 1.1069999933242798, 1.5957000255584717, 1.5038000345230103, 1.1856000423431396, 1.3898999691009521, 0.7839000225067139, 1.1200000047683716, 1.0424000024795532, 1.5995999574661255, 0.9430000185966492, 1.0952999591827393, 0.2775000035762787, 0.6481000185012817, 1.2074999809265137, 0.03720000013709068, 3.1245999336242676, 3.124500036239624, 3.124000072479248, 3.1238999366760254, 3.1238999366760254, 3.123800039291382, 3.123800039291382, 3.123800039291382, 3.123699903488159, 3.1236000061035156, 3.1236000061035156, 3.123500108718872, 3.1233999729156494, 3.1233999729156494, 3.123199939727783, 3.122299909591675, 3.1222000122070312, 3.121999979019165, 3.1219000816345215, 3.121799945831299, 3.121500015258789, 3.1212000846862793, 3.121000051498413, 3.1205999851226807, 3.1205999851226807, 3.1201000213623047, 3.1189000606536865, 3.1185998916625977, 3.1184000968933105, 3.1182000637054443, 3.1135001182556152, 3.0257999897003174, 3.020900011062622, 2.9730000495910645, 3.002700090408325, 2.984100103378296, 2.9052000045776367, 2.899399995803833, 2.655600070953369, 2.5074000358581543, 2.112299919128418, 2.1624999046325684, 2.771399974822998, 1.4981000423431396, 2.235300064086914, 1.5019999742507935, 3.169800043106079, 3.1689999103546143, 3.1689999103546143, 3.1689000129699707, 3.168800115585327, 3.168600082397461, 3.168600082397461, 3.1684999465942383, 3.1684000492095947, 3.167799949645996, 3.1675000190734863, 3.1675000190734863, 3.1673998832702637, 3.16729998588562, 3.16729998588562, 3.16729998588562, 3.167099952697754, 3.1670000553131104, 3.166800022125244, 3.1666998863220215, 3.166599988937378, 3.166599988937378, 3.165800094604492, 3.165800094604492, 3.1654999256134033, 3.1654000282287598, 3.1649999618530273, 3.164799928665161, 3.164799928665161, 3.1647000312805176, 3.1586999893188477, 3.1547000408172607, 3.1412999629974365, 3.0518999099731445, 3.0534000396728516, 2.870500087738037, 2.8977999687194824, 2.532099962234497, 2.7018001079559326, 2.572200059890747, 1.197700023651123, 2.981100082397461, 1.9450000524520874, 2.721400022506714, 0.5864999890327454, 3.343899965286255, 3.343899965286255, 3.3434998989105225, 3.343400001525879, 3.3433001041412354, 3.3433001041412354, 3.342900037765503, 3.3427000045776367, 3.342600107192993, 3.3422999382019043, 3.3417999744415283, 3.3417000770568848, 3.3413000106811523, 3.339099884033203, 3.338900089263916, 3.337899923324585, 3.3376998901367188, 3.3371999263763428, 3.335900068283081, 3.3329999446868896, 3.332900047302246, 3.3285000324249268, 3.3255999088287354, 3.321700096130371, 3.321199893951416, 3.321199893951416, 3.3201000690460205, 3.310800075531006, 3.3066999912261963, 3.30430006980896, 3.3020999431610107, 3.259999990463257, 3.2411999702453613, 3.198199987411499, 3.182300090789795, 3.2019999027252197, 3.1835999488830566, 3.113800048828125, 2.9123001098632812, 2.9870998859405518, 2.8301000595092773, 2.411400079727173, 2.17330002784729, 2.154099941253662, 1.8539999723434448, 2.506700038909912, 1.4537999629974365, 1.4996000528335571, 3.800299882888794, 3.800299882888794, 3.799999952316284, 3.799999952316284, 3.7988998889923096, 3.7988998889923096, 3.7988998889923096, 3.798799991607666, 3.7985999584198, 3.7983999252319336, 3.7983999252319336, 3.797600030899048, 3.7969000339508057, 3.7960000038146973, 3.7957000732421875, 3.795599937438965, 3.7955000400543213, 3.794800043106079, 3.794600009918213, 3.794600009918213, 3.7941999435424805, 3.794100046157837, 3.794100046157837, 3.793800115585327, 3.7934999465942383, 3.7934000492095947, 3.7929999828338623, 3.7904000282287598, 3.790299892425537, 3.7901999950408936, 3.643399953842163, 2.605799913406372, 3.490000009536743, 2.724299907684326, 2.175800085067749, 3.1946001052856445, 2.205199956893921, 3.0973000526428223, 2.1159000396728516, 1.4225000143051147, 1.1461999416351318, 3.827899932861328, 3.827899932861328, 3.827500104904175, 3.8273000717163086, 3.8273000717163086, 3.8271000385284424, 3.826900005340576, 3.8268001079559326, 3.8264999389648438, 3.8264999389648438, 3.8264000415802, 3.825900077819824, 3.8257999420166016, 3.825500011444092, 3.8254001140594482, 3.824899911880493, 3.8245999813079834, 3.824399948120117, 3.824199914932251, 3.824199914932251, 3.8241000175476074, 3.823899984359741, 3.8238000869750977, 3.8236000537872314, 3.8231000900268555, 3.8231000900268555, 3.8231000900268555, 3.822499990463257, 3.822200059890747, 3.822200059890747, 3.819999933242798, 3.783400058746338, 3.6566998958587646, 3.6975998878479004, 3.6101999282836914, 2.7392001152038574, 2.5411999225616455, 3.8559000492095947, 3.8554999828338623, 3.8554999828338623, 3.8547000885009766, 3.8545000553131104, 3.8543999195098877, 3.853800058364868, 3.853600025177002, 3.853600025177002, 3.8533999919891357, 3.853100061416626, 3.852400064468384, 3.852400064468384, 3.8519999980926514, 3.851300001144409, 3.8512001037597656, 3.851099967956543, 3.8501999378204346, 3.8498001098632812, 3.849600076675415, 3.848599910736084, 3.8485000133514404, 3.847599983215332, 3.8475000858306885, 3.8475000858306885, 3.847399950027466, 3.8473000526428223, 3.8471999168395996, 3.8471999168395996, 3.84689998626709, 3.5622000694274902, 3.6024999618530273, 3.425800085067749, 3.1041998863220215, 3.341599941253662, 3.252700090408325, 2.740000009536743, 2.509000062942505, 1.055799961090088, 0.25440001487731934, 4.324699878692627, 4.324399948120117, 4.3242998123168945, 4.32390022277832, 4.3231000900268555, 4.322800159454346, 4.3225998878479, 4.3225998878479, 4.321899890899658, 4.321700096130371, 4.321000099182129, 4.320899963378906, 4.320700168609619, 4.320499897003174, 4.3196001052856445, 4.318900108337402, 4.318600177764893, 4.318299770355225, 4.3180999755859375, 4.317699909210205, 4.317399978637695, 4.3171000480651855, 4.316999912261963, 4.3155999183654785, 4.315000057220459, 4.3130998611450195, 4.312699794769287, 4.312600135803223, 4.312099933624268, 4.310500144958496, 4.283899784088135, 3.992300033569336, 3.3822999000549316, 3.6240999698638916, 2.218100070953369, 4.38670015335083, 4.38640022277832, 4.3846001625061035, 4.384300231933594, 4.383299827575684, 4.382699966430664, 4.3821001052856445, 4.3805999755859375, 4.380199909210205, 4.379700183868408, 4.379300117492676, 4.3780999183654785, 4.377500057220459, 4.376999855041504, 4.376800060272217, 4.375699996948242, 4.373700141906738, 4.373600006103516, 4.3730998039245605, 4.372700214385986, 4.371300220489502, 4.367400169372559, 4.3668999671936035, 4.363800048828125, 4.363100051879883, 4.362500190734863, 4.361800193786621, 4.359000205993652, 4.356400012969971, 4.355999946594238, 4.316400051116943, 4.299300193786621, 4.062900066375732, 3.877500057220459, 3.821199893951416, 3.6175999641418457, 3.6594998836517334, 3.5499000549316406, 3.055299997329712, 3.6278998851776123, 2.549799919128418, 2.9030001163482666, 2.938199996948242, 2.781599998474121, 2.0664000511169434, 2.020400047302246, 4.424499988555908, 4.424200057983398, 4.423699855804443, 4.423399925231934, 4.423099994659424, 4.422999858856201, 4.422599792480469, 4.422299861907959, 4.4222002029418945, 4.421199798583984, 4.421199798583984, 4.42110013961792, 4.420899868011475, 4.4207000732421875, 4.4191999435424805, 4.4191999435424805, 4.419099807739258, 4.418399810791016, 4.416999816894531, 4.415500164031982, 4.41510009765625, 4.41480016708374, 4.414700031280518, 4.414299964904785, 4.414100170135498, 4.413400173187256, 4.406599998474121, 4.405600070953369, 4.3979997634887695, 4.391600131988525, 4.246600151062012, 4.248199939727783, 4.110899925231934, 4.025899887084961, 3.3982999324798584, 2.494800090789795, 4.490600109100342, 4.490499973297119, 4.488699913024902, 4.488399982452393, 4.486800193786621, 4.486499786376953, 4.486000061035156, 4.485599994659424, 4.484899997711182, 4.484099864959717, 4.483399868011475, 4.482999801635742, 4.482100009918213, 4.4816999435424805, 4.480599880218506, 4.4770002365112305, 4.474599838256836, 4.471399784088135, 4.468500137329102, 4.462299823760986, 4.425099849700928, 4.422999858856201, 4.408199787139893, 3.91759991645813, 1.8848999738693237, 1.8848999738693237, 1.8848999738693237, 1.8848999738693237, 1.8847999572753906, 1.8847999572753906, -1.0118999481201172, 4.501500129699707, 4.500400066375732, 4.49970006942749, 4.49970006942749, 4.4994001388549805, 4.499199867248535, 4.499199867248535, 4.499100208282471, 4.497900009155273, 4.497900009155273, 4.497700214385986, 4.497700214385986, 4.497000217437744, 4.4969000816345215, 4.496799945831299, 4.496399879455566, 4.496300220489502, 4.496200084686279, 4.496200084686279, 4.495800018310547, 4.495800018310547, 4.494999885559082, 4.494999885559082, 4.494999885559082, 4.49370002746582, 4.4928998947143555, 4.492499828338623, 4.492499828338623, 4.491600036621094, 4.491000175476074, 4.320300102233887, 4.0528998374938965, 4.85699987411499, 4.8566999435424805, 4.856500148773193, 4.855999946594238, 4.855500221252441, 4.855299949645996, 4.854700088500977, 4.854599952697754, 4.854100227355957, 4.852799892425537, 4.852499961853027, 4.85230016708374, 4.851399898529053, 4.850299835205078, 4.850200176239014, 4.849899768829346, 4.847300052642822, 4.847099781036377, 4.846199989318848, 4.84499979019165, 4.84499979019165, 4.843200206756592, 4.842599868774414, 4.842400074005127, 4.8404998779296875, 4.839600086212158, 4.838399887084961, 4.837200164794922, 4.836999893188477, 4.8358001708984375, 4.091000080108643, 4.333099842071533, 2.743799924850464, 4.914999961853027, 4.914000034332275, 4.913599967956543, 4.913099765777588, 4.913000106811523, 4.912799835205078, 4.912700176239014, 4.911300182342529, 4.910999774932861, 4.910699844360352, 4.910399913787842, 4.910099983215332, 4.909299850463867, 4.908400058746338, 4.907800197601318, 4.907700061798096, 4.906799793243408, 4.906000137329102, 4.905700206756592, 4.905600070953369, 4.904399871826172, 4.90339994430542, 4.903200149536133, 4.902500152587891, 4.901899814605713, 4.89900016784668, 4.897900104522705, 4.897600173950195, 4.896999835968018, 4.894499778747559, 4.277500152587891, 3.1995999813079834, 2.6689000129699707, 4.9822001457214355, 4.981599807739258, 4.981400012969971, 4.981100082397461, 4.980800151824951, 4.980800151824951, 4.980400085449219, 4.979599952697754, 4.9791998863220215, 4.9770002365112305, 4.976900100708008, 4.976600170135498, 4.976399898529053, 4.974999904632568, 4.974299907684326, 4.973499774932861, 4.973299980163574, 4.973199844360352, 4.971099853515625, 4.970099925994873, 4.969799995422363, 4.969399929046631, 4.969299793243408, 4.9670000076293945, 4.9664998054504395, 4.963799953460693, 4.962800025939941, 4.959799766540527, 4.959199905395508, 4.957499980926514, 4.53879976272583, 5.1072998046875, 5.10699987411499, 5.105899810791016, 5.105899810791016, 5.104499816894531, 5.104300022125244, 5.104000091552734, 5.103899955749512, 5.101799964904785, 5.1016998291015625, 5.101099967956543, 5.101099967956543, 5.099299907684326, 5.098599910736084, 5.097899913787842, 5.095799922943115, 5.095099925994873, 5.093699932098389, 5.093200206756592, 5.0914998054504395, 5.0904998779296875, 5.089799880981445, 5.088900089263916, 5.086400032043457, 5.085599899291992, 5.085100173950195, 5.085000038146973, 5.083099842071533, 5.074100017547607, 5.073999881744385, 5.486100196838379, 5.485199928283691, 5.485199928283691, 5.483399868011475, 5.482399940490723, 5.479700088500977, 5.479100227355957, 5.478300094604492, 5.477700233459473, 5.47730016708374, 5.4766998291015625, 5.473199844360352, 5.473199844360352, 5.471799850463867, 5.467700004577637, 5.466899871826172, 5.462900161743164, 5.459400177001953, 5.457799911499023, 5.44950008392334, 5.448999881744385, 5.445899963378906, 5.427299976348877, 5.42609977722168, 5.423999786376953, 5.356800079345703, 5.305200099945068, 4.270199775695801, 4.20419979095459, 2.7298998832702637, 6.995999813079834, 6.98330020904541, 6.968800067901611, 6.934800148010254, 6.902400016784668, 4.886499881744385, 2.862499952316284, 2.8624000549316406, 2.8624000549316406, 2.8624000549316406, 2.8624000549316406, 2.8624000549316406, 2.8624000549316406, 2.862299919128418, 2.862299919128418, 2.862299919128418, 2.862299919128418, 2.862299919128418, 2.862299919128418, 2.862299919128418, 2.862299919128418, 2.862299919128418, 2.862299919128418, 2.862299919128418, 2.862299919128418, 2.862299919128418, 2.862299919128418, 2.862299919128418, 2.862299919128418, 2.862299919128418, 2.862299919128418, 2.862299919128418, 2.862299919128418, 2.862299919128418, 2.862299919128418, 2.862299919128418, 2.862299919128418, 2.8622000217437744, 2.862299919128418, 2.8622000217437744, 2.8622000217437744, 2.8622000217437744]}, \"token.table\": {\"Topic\": [10, 19, 8, 11, 17, 8, 17, 2, 3, 6, 10, 1, 8, 1, 3, 9, 1, 2, 3, 2, 11, 10, 19, 10, 8, 15, 4, 4, 6, 8, 15, 3, 5, 5, 1, 19, 8, 5, 9, 10, 11, 6, 16, 2, 4, 6, 7, 10, 12, 13, 1, 1, 14, 2, 3, 14, 11, 1, 1, 2, 3, 5, 3, 3, 17, 10, 4, 7, 12, 10, 2, 4, 19, 9, 4, 2, 14, 7, 20, 10, 15, 16, 7, 7, 4, 18, 2, 5, 16, 12, 15, 1, 4, 11, 18, 11, 12, 1, 2, 3, 16, 14, 14, 19, 9, 11, 4, 1, 2, 3, 5, 9, 1, 2, 3, 18, 10, 16, 2, 1, 2, 15, 3, 5, 9, 3, 3, 17, 5, 5, 3, 3, 12, 11, 7, 12, 2, 6, 14, 4, 1, 3, 5, 2, 8, 15, 15, 15, 4, 6, 15, 3, 19, 6, 17, 16, 12, 17, 3, 10, 15, 2, 17, 4, 14, 11, 6, 6, 2, 11, 1, 3, 3, 5, 9, 1, 7, 7, 9, 14, 8, 18, 19, 5, 9, 5, 9, 11, 9, 14, 18, 2, 4, 10, 2, 11, 3, 5, 11, 4, 7, 8, 9, 15, 14, 3, 17, 15, 18, 2, 12, 2, 2, 9, 12, 19, 16, 1, 5, 16, 10, 18, 19, 16, 3, 16, 19, 4, 4, 9, 6, 4, 7, 16, 7, 17, 5, 7, 11, 4, 11, 11, 17, 17, 8, 6, 10, 6, 9, 11, 12, 18, 1, 3, 6, 7, 1, 3, 3, 4, 8, 3, 20, 17, 2, 8, 10, 9, 15, 12, 4, 3, 3, 12, 11, 11, 12, 3, 16, 7, 12, 6, 1, 4, 11, 12, 12, 8, 18, 12, 2, 1, 5, 6, 13, 2, 7, 5, 9, 1, 2, 3, 5, 7, 19, 7, 15, 3, 5, 6, 18, 18, 1, 2, 5, 11, 2, 7, 11, 15, 15, 1, 2, 4, 5, 5, 1, 7, 8, 1, 7, 5, 9, 4, 17, 15, 2, 3, 5, 17, 1, 6, 9, 11, 1, 1, 9, 16, 1, 14, 14, 2, 11, 18, 11, 7, 8, 19, 9, 1, 4, 14, 2, 2, 5, 1, 2, 3, 3, 14, 4, 9, 1, 6, 16, 8, 6, 17, 8, 14, 2, 4, 6, 2, 3, 18, 15, 1, 6, 2, 6, 5, 17, 11, 16, 15, 13, 12, 1, 10, 10, 10, 9, 16, 5, 8, 2, 3, 9, 17, 3, 9, 5, 6, 1, 3, 12, 5, 10, 2, 1, 2, 5, 7, 2, 13, 3, 9, 18, 19, 3, 9, 8, 1, 2, 6, 9, 1, 3, 1, 2, 11, 1, 1, 2, 4, 6, 18, 2, 6, 1, 1, 3, 5, 3, 1, 2, 6, 20, 1, 7, 1, 2, 11, 13, 11, 4, 6, 16, 6, 18, 2, 17, 1, 2, 3, 5, 3, 5, 8, 15, 4, 13, 1, 2, 3, 6, 6, 19, 17, 1, 3, 13, 1, 2, 3, 1, 15, 1, 3, 16, 16, 8, 4, 1, 2, 6, 12, 2, 11, 11, 11, 5, 5, 8, 13, 19, 4, 4, 11, 16, 19, 1, 4, 13, 8, 6, 12, 12, 14, 4, 13, 1, 2, 3, 5, 2, 3, 1, 3, 6, 5, 1, 2, 4, 6, 12, 1, 2, 4, 1, 2, 7, 2, 7, 18, 17, 2, 3, 10, 14, 2, 15, 10, 3, 10, 6, 5, 7, 3, 4, 14, 13, 13, 13, 2, 3, 1, 17, 17, 8, 11, 18, 9, 6, 8, 1, 2, 3, 13, 6, 13, 16, 1, 12, 8, 19, 1, 3, 5, 5, 7, 11, 12, 12, 3, 10, 18, 10, 16, 1, 7, 15, 7, 13, 7, 14, 13, 1, 2, 3, 7, 5, 11, 5, 1, 3, 6, 1, 2, 5, 11, 8, 17, 19, 1, 4, 11, 18, 18, 14, 9, 10, 1, 2, 4, 12, 2, 4, 12, 2, 4, 6, 15, 3, 5, 9, 18, 3, 2, 3, 12, 3, 5, 9, 8, 2, 5, 7, 11, 4, 2, 8, 1, 19, 1, 2, 3, 14, 2, 9, 6, 1, 3, 6, 5, 10, 15, 1, 11, 1, 3, 2, 17, 14, 18, 9, 10, 2, 3, 3, 1, 14, 2, 1, 5, 6, 18, 2, 6, 2, 3, 2, 4, 8, 12, 9, 2, 5, 10, 9, 11, 10, 11, 4, 1, 3, 9, 1, 5, 16, 5, 11, 20, 5, 15, 18, 15, 9, 3, 1, 2, 4, 7, 1, 2, 11, 4, 11, 13, 14, 1, 3, 5, 8, 15, 13, 2, 19, 10, 7, 4, 12, 8, 2, 13, 9, 9, 1, 2, 3, 2, 4, 9, 11, 1, 5, 6, 3, 4, 8, 6, 2, 2, 4, 16, 17, 8, 9, 16, 1, 5, 13, 8, 17, 2, 18, 2, 5, 14, 8, 14, 12, 13, 5, 5, 8, 7, 2, 5, 6, 2, 13, 3, 12, 9, 4, 11, 12, 11, 14, 16, 19, 7, 19, 2, 12, 14, 7, 2, 3, 5, 9, 3, 10, 16, 1, 2, 3, 5, 19, 10, 20, 7, 9, 6, 19, 18, 18, 2, 3, 4, 1, 18, 11, 11, 14, 2, 4, 8, 1, 3, 5, 9, 4, 10, 7, 2, 6, 1, 3, 16, 12, 3, 4, 9, 10, 15, 1, 4, 6, 1, 3, 1, 3, 13, 16, 7, 6, 1, 2, 3, 17, 17, 3, 10, 19, 5, 19, 7, 12, 7, 3, 16, 16, 18, 3, 11, 3, 17, 3, 1, 3, 4, 11, 5, 1, 2, 4, 17, 2, 15, 14, 12, 8, 11, 6, 7, 9, 1, 2, 4, 9, 2, 4, 6, 4, 19, 15, 2, 2, 11, 12, 2, 4, 4, 3, 4, 5, 5, 16, 10, 11, 17, 19, 1, 5, 14, 16, 1, 2, 3, 5, 9, 8, 14, 1, 1, 2, 3, 7, 8, 19, 2, 8, 15, 2, 7, 4, 19, 13, 5, 3, 5, 3, 1, 2, 4, 15, 1, 3, 5, 1, 3, 1, 1, 2, 5, 7, 7, 3], \"Freq\": [0.9889990091323853, 0.9469516277313232, 0.9992735385894775, 0.9951181411743164, 0.986950695514679, 0.9961215257644653, 0.9718730449676514, 0.9986270666122437, 0.040812812745571136, 0.9583722949028015, 0.9879075288772583, 0.006866663694381714, 0.9915462732315063, 0.16021332144737244, 0.8393265604972839, 0.9924896955490112, 0.22854672372341156, 0.6795092225074768, 0.09162305295467377, 0.9987619519233704, 0.9846305251121521, 0.9866039156913757, 0.9473493099212646, 0.995715856552124, 0.9955731630325317, 0.9954518675804138, 0.9974746704101562, 0.5656869411468506, 0.43298107385635376, 0.9950724840164185, 0.978753387928009, 0.9992469549179077, 0.9972434043884277, 0.9974613785743713, 0.9998683333396912, 0.9869836568832397, 0.9973111152648926, 0.887915849685669, 0.11098948121070862, 0.9974681735038757, 0.986312985420227, 0.9622014164924622, 0.9890556335449219, 0.3369196653366089, 0.013224883936345577, 0.6492788195610046, 0.9956687092781067, 0.9963368773460388, 0.9958712458610535, 0.9995157122612, 0.9994444847106934, 0.9992287755012512, 0.9923529624938965, 0.8380164504051208, 0.1614927500486374, 0.997071385383606, 0.9956091642379761, 0.9998831152915955, 0.0569588840007782, 0.1336343139410019, 0.7923126816749573, 0.0167955681681633, 0.9986187219619751, 0.9996830821037292, 0.9904958605766296, 0.9959298968315125, 0.998901903629303, 0.15861405432224274, 0.8373346328735352, 0.9860666990280151, 0.37420061230659485, 0.6254777908325195, 0.9972231388092041, 0.995212733745575, 0.9956666231155396, 0.9986822009086609, 0.9944846034049988, 0.9930736422538757, 0.9922860264778137, 0.9994822144508362, 0.9857634902000427, 0.9967958927154541, 0.9953390955924988, 0.9912574291229248, 0.9936439990997314, 0.9944295287132263, 0.999113917350769, 0.994834303855896, 0.9785409569740295, 0.9984766840934753, 0.9880297780036926, 0.42941564321517944, 0.410856693983078, 0.15935096144676208, 0.995034396648407, 0.9659980535507202, 0.9959796071052551, 0.43795597553253174, 0.4828912317752838, 0.07879951596260071, 0.9824112057685852, 0.9928322434425354, 0.9933584332466125, 0.9878751039505005, 0.99349045753479, 0.9992775917053223, 0.9992156028747559, 0.26318684220314026, 0.26318684220314026, 0.0012473309179767966, 0.2107989341020584, 0.25944483280181885, 0.018997924402356148, 0.5025137066841125, 0.47830066084861755, 0.9818417429924011, 0.9909952282905579, 0.9946874976158142, 0.9987836480140686, 0.3044469654560089, 0.6951721906661987, 0.9841665029525757, 0.2582610845565796, 0.7407843470573425, 0.9988880753517151, 0.9988440871238708, 0.9976356029510498, 0.9935065507888794, 0.9975457191467285, 0.9968806505203247, 0.9996178150177002, 0.998969554901123, 0.9923088550567627, 0.9596842527389526, 0.9938756227493286, 0.9918894171714783, 0.29947733879089355, 0.6996757984161377, 0.9933609366416931, 0.9990169405937195, 0.8185204267501831, 0.18068403005599976, 0.0006530748214572668, 0.19513265788555145, 0.8039465546607971, 0.9772591590881348, 0.9805827736854553, 0.9703565835952759, 0.8589447140693665, 0.14070576429367065, 0.9971897006034851, 0.9979196190834045, 0.8421207666397095, 0.9934523105621338, 0.9930160045623779, 0.9939281344413757, 0.9903220534324646, 0.9937218427658081, 0.14496366679668427, 0.38933101296424866, 0.46388375759124756, 0.9990258812904358, 0.9972512722015381, 0.9947898387908936, 0.9974102973937988, 0.9950432181358337, 0.9991306066513062, 0.9927050471305847, 0.991413414478302, 0.007781894877552986, 0.983934760093689, 0.015837984159588814, 0.09112487733364105, 0.8890232443809509, 0.018891742452979088, 0.9984734654426575, 0.9909807443618774, 0.997317910194397, 0.9946115016937256, 0.9889203310012817, 0.9967173337936401, 0.9668172001838684, 0.9804153442382812, 0.4006851315498352, 0.5984258651733398, 0.22065894305706024, 0.7750645279884338, 0.9918655157089233, 0.9925602674484253, 0.995681643486023, 0.9877479672431946, 0.9727107286453247, 0.02615855447947979, 0.9959562420845032, 0.06496850401163101, 0.9322980642318726, 0.23813053965568542, 0.761512815952301, 0.9958884119987488, 0.9918417930603027, 0.7337961196899414, 0.11641957610845566, 0.1481703668832779, 0.9826732873916626, 0.9953895211219788, 0.9971961379051208, 0.9933872222900391, 0.9921991229057312, 0.983842670917511, 0.998418927192688, 0.9597321152687073, 0.9973421096801758, 0.9973581433296204, 0.3267841339111328, 0.6699074506759644, 0.9874758720397949, 0.9789271354675293, 0.4491101801395416, 0.5493407845497131, 0.992746114730835, 0.998099148273468, 0.9935936331748962, 0.9827851057052612, 0.9806304574012756, 0.9990937113761902, 0.9971420764923096, 0.9447818398475647, 0.9982637166976929, 0.9984314441680908, 0.9951203465461731, 0.9984082579612732, 0.9988234043121338, 0.997765064239502, 0.997059166431427, 0.9944952130317688, 0.9804545044898987, 0.997627317905426, 0.994096577167511, 0.9996002316474915, 0.9012545347213745, 0.09796245396137238, 0.9635663032531738, 0.9807066917419434, 0.9959163665771484, 0.9921466708183289, 0.989739716053009, 0.9925037026405334, 0.9993715882301331, 0.9979611039161682, 0.9979104399681091, 0.994877815246582, 0.9711467623710632, 0.9960108995437622, 0.003637288697063923, 0.9984055161476135, 0.9903243184089661, 0.6939669251441956, 0.30586326122283936, 0.9995764493942261, 0.04230624437332153, 0.9546496272087097, 0.9991136789321899, 0.9742702841758728, 0.9946328997612, 0.001039594179019332, 0.8763778805732727, 0.12163251638412476, 0.9934452176094055, 0.9912307858467102, 0.9936553835868835, 0.9963076710700989, 0.9994719624519348, 0.639281690120697, 0.35878053307533264, 0.9894917607307434, 0.15795089304447174, 0.8396337032318115, 0.9993896484375, 0.9962717294692993, 0.9982747435569763, 0.9906953573226929, 0.9983445405960083, 0.02293989434838295, 0.7016908526420593, 0.23479655385017395, 0.03913275897502899, 0.9657170176506042, 0.9928362965583801, 0.9934073686599731, 0.9881339073181152, 0.997582733631134, 0.16988590359687805, 0.8272705078125, 0.9994635581970215, 0.9914066791534424, 0.4526297450065613, 0.5463560819625854, 0.9986335635185242, 0.9961726665496826, 0.41930583119392395, 0.37827202677726746, 0.07663269340991974, 0.03288140147924423, 0.09266577661037445, 0.9924500584602356, 0.9911146759986877, 0.9957455992698669, 0.37336134910583496, 0.6254600286483765, 0.9974215030670166, 0.9678463339805603, 0.976198673248291, 0.9989007115364075, 0.4244289696216583, 0.08935347199440002, 0.48306718468666077, 0.9977251887321472, 0.9991046190261841, 0.9934676885604858, 0.9952664375305176, 0.9819799661636353, 0.9900144338607788, 0.0026470974553376436, 0.007105366326868534, 0.9966363906860352, 0.9935832619667053, 0.9998764395713806, 0.9983058571815491, 0.9992380142211914, 0.9751935601234436, 0.02471952885389328, 0.5279677510261536, 0.47153639793395996, 0.9984707832336426, 0.9943781495094299, 0.9979673027992249, 0.21543584764003754, 0.07616419345140457, 0.06745970994234085, 0.6397792100906372, 0.9985714554786682, 0.996128499507904, 0.9992602467536926, 0.9727427363395691, 0.998626708984375, 0.9997587203979492, 0.9947288036346436, 0.9922594428062439, 0.9996374249458313, 0.9912139177322388, 0.9952284693717957, 0.9958360195159912, 0.003392142243683338, 0.9918742775917053, 0.9851736426353455, 0.9972002506256104, 0.9955652356147766, 0.9662078022956848, 0.988387405872345, 0.9752548336982727, 0.02448338456451893, 0.9951862692832947, 0.9981875419616699, 0.02459222823381424, 0.9713929891586304, 0.028517084196209908, 0.4358361065387726, 0.5351706147193909, 0.9977366924285889, 0.9958813190460205, 0.9924880862236023, 0.995339035987854, 0.9987941384315491, 0.9990732669830322, 0.9889339208602905, 0.993846595287323, 0.9894225001335144, 0.9838470816612244, 0.9964056611061096, 0.9928158521652222, 0.6681109666824341, 0.02130935527384281, 0.3100302517414093, 0.998906672000885, 0.9971925616264343, 0.9859088063240051, 0.9898694157600403, 0.005636952817440033, 0.9930431246757507, 0.20518803596496582, 0.7941104173660278, 0.9955474138259888, 0.9983008503913879, 0.46629536151885986, 0.527448832988739, 0.9961944222450256, 0.943965494632721, 0.9981008172035217, 0.9986153841018677, 0.9920178651809692, 0.9941095113754272, 0.989744246006012, 0.9930397868156433, 0.9829075932502747, 0.9950165748596191, 0.9981787800788879, 0.20148232579231262, 0.7198908925056458, 0.07841473817825317, 0.9871132373809814, 0.9972530007362366, 0.9995977878570557, 0.9992253184318542, 0.9666285514831543, 0.9493069648742676, 0.050565268844366074, 0.9964507222175598, 0.9979767799377441, 0.9949129223823547, 0.9994688630104065, 0.6818373203277588, 0.07545298337936401, 0.03956680744886398, 0.2028949111700058, 0.4341410994529724, 0.5635321736335754, 0.9267458319664001, 0.07293564826250076, 0.9811047911643982, 0.9822050929069519, 0.4500971734523773, 0.5463607311248779, 0.9950416684150696, 0.03229033201932907, 0.9666266441345215, 0.9980535507202148, 0.9972372651100159, 0.057529740035533905, 0.9417539238929749, 0.6495537757873535, 0.12258116155862808, 0.2262064814567566, 0.9993457794189453, 0.9610615372657776, 6.304109410848469e-05, 0.03170967102050781, 0.007060602772980928, 0.9967555403709412, 0.13548803329467773, 0.8637362122535706, 0.9993902444839478, 0.27616560459136963, 0.42932814359664917, 0.2933150827884674, 0.9969231486320496, 0.9225152134895325, 0.07554414868354797, 0.00154697906691581, 0.9664797782897949, 0.6581428050994873, 0.3409556746482849, 0.9992573857307434, 0.9641183018684387, 0.03538048639893532, 0.9957722425460815, 0.9881917834281921, 0.9886250495910645, 0.01083424687385559, 0.9850320816040039, 0.9996957182884216, 0.9670590162277222, 0.9972026348114014, 0.9736208319664001, 0.6998106837272644, 0.08897936344146729, 0.21112030744552612, 0.9947681427001953, 0.023305634036660194, 0.13453707098960876, 0.8416511416435242, 0.9927204847335815, 0.9969117641448975, 0.9006248712539673, 0.2688940763473511, 0.20734316110610962, 0.5234436988830566, 0.9954097270965576, 0.9836415648460388, 0.9927317500114441, 0.9968073964118958, 0.022060677409172058, 0.9759223461151123, 0.9993515610694885, 0.2284153550863266, 0.421068012714386, 0.3503647744655609, 0.999398946762085, 0.9873464703559875, 0.24911928176879883, 0.750684380531311, 0.9934617280960083, 0.9849410057067871, 0.9985888004302979, 0.9989354610443115, 0.32677823305130005, 0.07439784705638885, 0.598044216632843, 0.991500735282898, 0.9986642599105835, 0.992421567440033, 0.9958656430244446, 0.9768266081809998, 0.9976363778114319, 0.9938512444496155, 0.9956492781639099, 0.9346634745597839, 0.06288918852806091, 0.9986774921417236, 0.7982958555221558, 0.20082131028175354, 0.988696277141571, 0.966605544090271, 0.998764157295227, 0.9984118342399597, 0.9959021806716919, 0.9983178973197937, 0.9945326447486877, 0.9926384091377258, 0.9967454075813293, 0.9924629926681519, 0.9974159002304077, 0.9932767748832703, 0.9610587954521179, 0.03598133847117424, 0.002472000429406762, 0.9981946349143982, 0.3572588264942169, 0.6420047283172607, 0.5551127195358276, 0.1402062028646469, 0.30429941415786743, 0.9981388449668884, 0.49125853180885315, 0.43090391159057617, 0.07766563445329666, 0.9980506896972656, 0.0015449700877070427, 0.041377484798431396, 0.8931625485420227, 0.0653173103928566, 0.52162766456604, 0.2922859787940979, 0.1857168823480606, 0.9642359614372253, 0.03536644205451012, 0.9963574409484863, 0.9920505881309509, 0.9086071252822876, 0.09062223136425018, 0.9891030788421631, 0.9917936325073242, 0.9997091293334961, 0.9963029623031616, 0.9961296319961548, 0.03639138489961624, 0.9598227143287659, 0.9798254370689392, 0.9972158074378967, 0.9954203963279724, 0.13029521703720093, 0.8686347603797913, 0.9940978288650513, 0.9985039234161377, 0.977811872959137, 0.9897361397743225, 0.8226395845413208, 0.17713047564029694, 0.999699592590332, 0.9964315891265869, 0.9893578886985779, 0.3972551226615906, 0.6002321839332581, 0.9984185695648193, 0.994813859462738, 0.8667347431182861, 0.13176710903644562, 0.000879848375916481, 0.6022562384605408, 0.392412394285202, 0.003959317691624165, 0.9760392308235168, 0.9622952342033386, 0.9981207847595215, 0.9994310736656189, 0.9986034035682678, 0.99608314037323, 0.9868981242179871, 0.14074550569057465, 0.719972550868988, 0.13901448249816895, 0.9951635599136353, 0.10250872373580933, 0.16575878858566284, 0.7306472659111023, 0.9808874726295471, 0.9991298913955688, 0.9915035367012024, 0.9982360005378723, 0.9985160827636719, 0.9851577281951904, 0.5032157301902771, 0.49489811062812805, 0.9976661205291748, 0.9900751709938049, 0.9920145869255066, 0.9989112615585327, 0.998923122882843, 0.9891355037689209, 0.3630373775959015, 0.11248253285884857, 0.45358580350875854, 0.0703015848994255, 0.9848508834838867, 0.013283152133226395, 0.9959476590156555, 0.6812118291854858, 0.0931694284081459, 0.22539834678173065, 0.03282061591744423, 0.9031530022621155, 0.026373708620667458, 0.03692319244146347, 0.9976838827133179, 0.988752543926239, 0.973628580570221, 0.9987842440605164, 0.9057161211967468, 0.0934043675661087, 0.9956607222557068, 0.9630932211875916, 0.9976317286491394, 0.9973006844520569, 0.9951887130737305, 0.5584166049957275, 0.0781472697854042, 0.3630484342575073, 0.9942159056663513, 0.9978125691413879, 0.9967885613441467, 0.997818648815155, 0.052985116839408875, 0.027789397165179253, 0.9192732572555542, 0.986522912979126, 0.0594809353351593, 0.28801295161247253, 0.6495944261550903, 0.9891855120658875, 0.9989365339279175, 0.8429907560348511, 0.15616647899150848, 0.9893693327903748, 0.2317734956741333, 0.022041859105229378, 0.7454156279563904, 0.9982151985168457, 0.2153993546962738, 0.2234768271446228, 0.1238546222448349, 0.43349120020866394, 0.9965606331825256, 0.6620721220970154, 0.33599331974983215, 0.9992997646331787, 0.8276568651199341, 0.3455997407436371, 0.16370514035224915, 0.4901905357837677, 0.9959439039230347, 0.9848382472991943, 0.014011926017701626, 0.9841910004615784, 0.5537723302841187, 0.28768953680992126, 0.15804919600486755, 0.2792064845561981, 0.7141242623329163, 0.9983934760093689, 0.9995048642158508, 0.9840074181556702, 0.02615615352988243, 0.9735563397407532, 0.99873948097229, 0.9709704518318176, 0.9951874017715454, 0.9895281195640564, 0.9934436678886414, 0.9946070909500122, 0.9978064894676208, 0.9989176988601685, 0.9983113408088684, 0.999109148979187, 0.9914072155952454, 0.9981909990310669, 0.9695003032684326, 0.01708921417593956, 0.013337923213839531, 0.9754800796508789, 0.09509433060884476, 0.9024257659912109, 0.9294010996818542, 0.06991695612668991, 0.9983197450637817, 0.9957941770553589, 0.9966844320297241, 0.990389347076416, 0.990365207195282, 0.945479691028595, 0.05421117693185806, 0.9974569082260132, 0.9950947165489197, 0.9837743639945984, 0.9888631105422974, 0.9967441558837891, 0.9964404106140137, 0.5281801819801331, 0.41077473759651184, 0.06086620315909386, 0.3575582504272461, 0.5355356335639954, 0.10582441091537476, 0.4290574789047241, 0.5689160227775574, 0.8810140490531921, 0.9938828945159912, 0.9860378503799438, 0.9969159960746765, 0.9937797784805298, 0.9928178787231445, 0.9990285634994507, 0.09453675150871277, 0.16918937861919403, 0.5389640927314758, 0.1967480629682541, 0.9996342658996582, 0.5334892868995667, 0.4641776978969574, 0.9990959763526917, 0.9722819924354553, 0.9973998665809631, 0.9960954189300537, 0.49040526151657104, 0.48387429118156433, 0.025540726259350777, 0.400776207447052, 0.5909751057624817, 0.988860011100769, 0.7166653871536255, 0.2763611674308777, 0.9991592764854431, 0.9971563816070557, 0.9979788661003113, 0.9982484579086304, 0.9978888630867004, 0.9986549615859985, 0.9877870678901672, 0.9974582195281982, 0.9977957010269165, 0.8581267595291138, 0.0005153914680704474, 0.1410454660654068, 0.1528128981590271, 0.8022676706314087, 0.02865241840481758, 0.015122109092772007, 0.1076769158244133, 0.0412682443857193, 0.8505053520202637, 0.9993468523025513, 0.9954761266708374, 0.998187243938446, 0.9990129470825195, 0.9988883137702942, 0.8021442890167236, 0.197297602891922, 0.9902724623680115, 0.9741145968437195, 0.9977900385856628, 0.9886160492897034, 0.974932849407196, 0.36000826954841614, 0.6373351812362671, 0.9966481924057007, 0.9957530498504639, 0.9952623844146729, 0.9992075562477112, 0.9858278036117554, 0.9415668249130249, 0.05753587558865547, 0.9886156320571899, 0.9968913197517395, 0.993345320224762, 0.9993260502815247, 0.9937080144882202, 0.9988093376159668, 0.9942179918289185, 0.997382640838623, 0.9931445717811584, 0.5830594897270203, 0.022446949034929276, 0.3933827877044678, 0.999207079410553, 0.9943978190422058, 0.9987204074859619, 0.977593183517456, 0.994444727897644, 0.5898138284683228, 0.26418745517730713, 0.14499589800834656, 0.35556137561798096, 0.638296902179718, 0.9895563721656799, 0.9145585894584656, 0.9920811653137207, 0.9769463539123535, 0.9655268788337708, 0.032819442451000214, 0.9971482157707214, 0.9961711764335632, 0.025490494444966316, 0.881302535533905, 0.06769607216119766, 0.025072617456316948, 0.9977141618728638, 0.9963780641555786, 0.9935116171836853, 0.9703701138496399, 0.0015215525636449456, 0.0007607762818224728, 0.027387944981455803, 0.9787614345550537, 0.9983766674995422, 0.9473854303359985, 0.8540250062942505, 0.14233750104904175, 0.9524909257888794, 0.589612603187561, 0.9854991436004639, 0.9732264280319214, 0.7953829765319824, 0.08265113085508347, 0.12129321694374084, 0.9995770454406738, 0.9761326909065247, 0.9760421514511108, 0.984184980392456, 0.99712735414505, 0.8025998473167419, 0.1973535269498825, 0.9951688051223755, 0.8972000479698181, 0.06297674775123596, 0.03957913815975189, 0.9976848363876343, 0.9979661703109741, 0.9915357232093811, 0.9996250867843628, 0.9991720914840698, 0.9847877621650696, 0.8815789818763733, 0.1178782731294632, 0.9850984811782837, 0.9988098740577698, 0.41576075553894043, 0.29519015550613403, 0.11433421075344086, 0.051970094442367554, 0.12057062238454819, 0.4670100510120392, 0.3818714916706085, 0.15087054669857025, 0.7957062125205994, 0.20411397516727448, 0.8338550925254822, 0.1659945845603943, 0.9870816469192505, 0.9910163283348083, 0.993651807308197, 0.9770196080207825, 0.8256867527961731, 0.16427941620349884, 0.010009287856519222, 0.9862374067306519, 0.9844246506690979, 0.5000116229057312, 0.49587929248809814, 0.9740431904792786, 0.9954396486282349, 0.9882217049598694, 0.9985350966453552, 0.9977951645851135, 0.9918277859687805, 0.8163051009178162, 0.17906047403812408, 0.9976478219032288, 0.9943581819534302, 0.07576672732830048, 0.9176192283630371, 0.9993893504142761, 0.996366024017334, 0.9989941716194153, 0.9103880524635315, 0.0640498623251915, 0.02517990581691265, 0.9842613339424133, 0.9981580972671509, 0.9987221360206604, 0.9335307478904724, 0.06577318161725998, 0.9902652502059937, 0.9976415038108826, 0.9917842745780945, 0.9981796145439148, 0.9929661750793457, 0.9959996938705444, 0.9934393167495728, 0.9976539015769958, 0.9967430233955383, 0.9877273440361023, 0.002838228829205036, 0.7733339071273804, 0.196505606174469, 0.027213606983423233, 0.08370435237884521, 0.06387963891029358, 0.8513613343238831, 0.9929317235946655, 0.9667198657989502, 0.9830678105354309, 0.9982812404632568, 0.2743780314922333, 0.7227518558502197, 0.9883480072021484, 0.1138874739408493, 0.8848955631256104, 0.9975409507751465, 0.9299305081367493, 0.0688837394118309, 0.9985474348068237, 0.9940187931060791, 0.9937055706977844, 0.9874556660652161, 0.9887027144432068, 0.9873912930488586, 0.9934118390083313, 0.9997231364250183, 0.9981065392494202, 0.9959244132041931, 0.994125485420227, 0.7438368797302246, 0.016755370423197746, 0.21756593883037567, 0.021832754835486412, 0.9969314932823181, 0.16084147989749908, 0.8316681385040283, 0.9990766048431396, 0.8588112592697144, 0.06214609742164612, 0.06597047299146652, 0.012907266616821289, 0.992613673210144, 0.9952389597892761, 0.722886323928833, 0.2755650281906128, 0.99300217628479, 0.9994101524353027, 0.9993587732315063, 0.9993483424186707, 0.9978524446487427, 0.9807213544845581, 0.9971751570701599, 0.01091180369257927, 0.9888822436332703, 0.9994218349456787, 0.5220957398414612, 0.42137131094932556, 0.05608021095395088, 0.9936068058013916, 0.17073209583759308, 0.7888767719268799, 0.03981499373912811, 0.9766079783439636, 0.02333362214267254, 0.9998989701271057, 0.37117037177085876, 0.2505453824996948, 0.07544464617967606, 0.3026432693004608, 0.9925055503845215, 0.997655987739563], \"Term\": [\"absolute\", \"abstract\", \"accept\", \"accident\", \"accuracy\", \"acquire\", \"acquisition\", \"add\", \"address\", \"address\", \"advanced\", \"age\", \"age\", \"agree\", \"agree\", \"algorithm\", \"also\", \"also\", \"also\", \"amount\", \"amp\", \"analogy\", \"analyze\", \"animal\", \"anti\", \"anywhere\", \"apple\", \"application\", \"application\", \"arab\", \"arbitrary\", \"argument\", \"arm\", \"armenian\", \"article\", \"assist\", \"assumption\", \"attack\", \"attack\", \"author\", \"auto\", \"automate\", \"automatically\", \"available\", \"available\", \"available\", \"average\", \"avoid\", \"aware\", \"ax\", \"back\", \"bad\", \"bag\", \"base\", \"base\", \"baseball\", \"battery\", \"be\", \"become\", \"become\", \"become\", \"become\", \"belief\", \"believe\", \"belt\", \"benefit\", \"bike\", \"bill\", \"bill\", \"birth\", \"bit\", \"bit\", \"black\", \"blank\", \"blind\", \"block\", \"blow\", \"blue\", \"board\", \"book\", \"bounce\", \"box\", \"boy\", \"brave\", \"brother\", \"btw\", \"build\", \"burn\", \"bury\", \"bus\", \"button\", \"buy\", \"buy\", \"buy\", \"buyer\", \"buying\", \"cable\", \"call\", \"call\", \"call\", \"campaign\", \"canadian\", \"cap\", \"capacity\", \"capture\", \"car\", \"card\", \"carry\", \"carry\", \"carry\", \"carry\", \"carry\", \"case\", \"case\", \"case\", \"catalog\", \"category\", \"cd\", \"center\", \"change\", \"change\", \"characteristic\", \"child\", \"child\", \"chip\", \"christian\", \"church\", \"circuit\", \"city\", \"civilian\", \"claim\", \"clear\", \"clock\", \"closet\", \"club\", \"cluster\", \"code\", \"code\", \"cold\", \"color\", \"come\", \"come\", \"come\", \"community\", \"community\", \"competition\", \"compress\", \"comprise\", \"computer\", \"computer\", \"concept\", \"conclusion\", \"cone\", \"conference\", \"configuration\", \"confirm\", \"connector\", \"constitution\", \"contain\", \"contain\", \"contain\", \"control\", \"controller\", \"convert\", \"cool\", \"cop\", \"copy\", \"correction\", \"cost\", \"cost\", \"could\", \"could\", \"country\", \"country\", \"country\", \"couple\", \"coverage\", \"cpu\", \"crack\", \"crazy\", \"creation\", \"creature\", \"crew\", \"crime\", \"crime\", \"criminal\", \"criminal\", \"cross\", \"cryptography\", \"cylinder\", \"dare\", \"datum\", \"datum\", \"daughter\", \"dealer\", \"dealer\", \"death\", \"death\", \"decent\", \"default\", \"defense\", \"defense\", \"defense\", \"deletion\", \"deliver\", \"deny\", \"dept\", \"depth\", \"desert\", \"design\", \"designer\", \"detail\", \"develop\", \"device\", \"device\", \"devil\", \"diagnostic\", \"die\", \"die\", \"diet\", \"direct\", \"direction\", \"dirty\", \"discount\", \"discussion\", \"disease\", \"dish\", \"disk\", \"display\", \"distance\", \"distribution\", \"distribution_usa\", \"division\", \"doctor\", \"dog\", \"domain\", \"door\", \"draft\", \"drive\", \"driver\", \"driver\", \"driving\", \"dynamic\", \"eat\", \"economic\", \"electrical\", \"element\", \"email\", \"encryption\", \"engine\", \"engineering\", \"enhancement\", \"enough\", \"enough\", \"entry\", \"era\", \"even\", \"even\", \"evidence\", \"exactly\", \"exactly\", \"exist\", \"expansion\", \"expensive\", \"explain\", \"explain\", \"explain\", \"export\", \"exposure\", \"extension\", \"external\", \"fact\", \"factor\", \"factor\", \"factory\", \"fairly\", \"fairly\", \"faith\", \"family\", \"fan\", \"fancy\", \"faq\", \"fast\", \"fast\", \"fast\", \"fast\", \"fatal\", \"father\", \"fax\", \"fee\", \"field\", \"fight\", \"fight\", \"file\", \"film\", \"final\", \"final\", \"fire\", \"firearm\", \"first\", \"first\", \"first\", \"first\", \"first\", \"flight\", \"floppy\", \"font\", \"force\", \"force\", \"format\", \"formation\", \"forum\", \"friend\", \"front\", \"front\", \"front\", \"function\", \"game\", \"gear\", \"generate\", \"generic\", \"get\", \"get\", \"get\", \"gift\", \"girl\", \"go\", \"goal\", \"god\", \"good\", \"good\", \"government\", \"government\", \"graphic\", \"greatly_appreciate\", \"greek\", \"ground\", \"ground\", \"ground\", \"ground\", \"guess\", \"guilty\", \"gun\", \"handling\", \"hard\", \"have\", \"headache\", \"health\", \"hear\", \"heat\", \"helmet\", \"high\", \"high\", \"highly\", \"highway\", \"hit\", \"homosexual\", \"horror\", \"horse\", \"host\", \"host\", \"hot\", \"hour\", \"house\", \"house\", \"however\", \"however\", \"however\", \"human\", \"ice\", \"icon\", \"ide\", \"ill\", \"image\", \"immediate\", \"imply\", \"import\", \"impressive\", \"improve\", \"improvement\", \"include\", \"include\", \"include\", \"increase\", \"indeed\", \"indication\", \"infinite\", \"info\", \"info\", \"information\", \"information\", \"inhabitant\", \"input\", \"insurance\", \"insurance\", \"interface\", \"interior\", \"internal\", \"internet\", \"interpret\", \"interpretation\", \"introduction\", \"investigation\", \"investment\", \"islamic\", \"israeli\", \"issue\", \"issue\", \"issue\", \"japanese\", \"jewish\", \"key\", \"kill\", \"kinda\", \"know\", \"know\", \"laboratory\", \"land\", \"language\", \"large\", \"last\", \"last\", \"last\", \"last\", \"launch\", \"launch\", \"law\", \"law\", \"leadership\", \"leather\", \"legal\", \"legal\", \"letter\", \"level\", \"level\", \"library\", \"license\", \"life\", \"life\", \"light\", \"light\", \"light\", \"like\", \"line\", \"line\", \"line\", \"line\", \"link\", \"list\", \"list\", \"little\", \"live\", \"live\", \"live\", \"logic\", \"look\", \"look\", \"look\", \"looking\", \"lose\", \"lose\", \"lot\", \"low\", \"low\", \"lunar\", \"luxury\", \"machine\", \"machine\", \"mad\", \"mail\", \"mailing\", \"main\", \"maintenance\", \"make\", \"make\", \"make\", \"male\", \"man\", \"man\", \"man\", \"management\", \"manager\", \"maneuver\", \"many\", \"many\", \"many\", \"map\", \"mapping\", \"mass\", \"material\", \"matter\", \"matter\", \"max\", \"may\", \"may\", \"may\", \"maybe\", \"mb\", \"mean\", \"mean\", \"medical\", \"medicine\", \"member\", \"memory\", \"message\", \"message\", \"message\", \"meter\", \"method\", \"mid\", \"mile\", \"mileage\", \"military\", \"minority\", \"mirror\", \"mission\", \"mission\", \"mode\", \"model\", \"model\", \"modem\", \"module\", \"money\", \"monitor\", \"moon\", \"moral\", \"morality\", \"motherboard\", \"motif\", \"motor\", \"mouse\", \"movie\", \"much\", \"much\", \"much\", \"murder\", \"must\", \"must\", \"name\", \"name\", \"name\", \"national\", \"need\", \"need\", \"need\", \"network\", \"network\", \"new\", \"new\", \"new\", \"next\", \"next\", \"next\", \"nntp_poste\", \"nntp_poste\", \"nntp_posting\", \"noise\", \"note\", \"note\", \"novel\", \"nuclear\", \"number\", \"object\", \"objective\", \"observation\", \"observation\", \"observer\", \"occupy\", \"offense\", \"offer\", \"offer\", \"oil\", \"orbit\", \"orbital\", \"orbiter\", \"order\", \"order\", \"organization\", \"output\", \"own\", \"owner\", \"owner\", \"package\", \"packet\", \"page\", \"page\", \"part\", \"part\", \"part\", \"part\", \"partially\", \"particle\", \"patient\", \"pay\", \"pc\", \"pen\", \"penalty\", \"people\", \"people\", \"people\", \"percent\", \"performance\", \"performance\", \"performance\", \"peripheral\", \"person\", \"phase\", \"phone\", \"physical\", \"physician\", \"pick\", \"pick\", \"picture\", \"pitch\", \"planetary\", \"play\", \"player\", \"plot\", \"point\", \"point\", \"point\", \"point\", \"police\", \"police\", \"population\", \"post\", \"post\", \"post\", \"power\", \"power\", \"power\", \"power\", \"practice\", \"preferably\", \"presentation\", \"pretty\", \"price\", \"price\", \"primarily\", \"primitive\", \"printer\", \"private\", \"prize\", \"problem\", \"problem\", \"problem\", \"procedure\", \"process\", \"processor\", \"product\", \"program\", \"program\", \"program\", \"programmer\", \"protect\", \"protect\", \"protect\", \"proud\", \"prove\", \"provide\", \"provide\", \"pub\", \"public\", \"public\", \"public\", \"publish\", \"pull\", \"pull\", \"pull\", \"pull\", \"purchase\", \"purpose\", \"purpose\", \"put\", \"qualified\", \"question\", \"question\", \"question\", \"quick\", \"rate\", \"rate\", \"ray\", \"read\", \"read\", \"read\", \"ready\", \"ready\", \"reality\", \"really\", \"rear\", \"reason\", \"reason\", \"receive\", \"recieve\", \"red\", \"reflect\", \"regulation\", \"relationship\", \"release\", \"religion\", \"religious\", \"remember\", \"remind\", \"remove\", \"reply\", \"reply\", \"reply\", \"repost\", \"request\", \"request\", \"require\", \"require\", \"research\", \"resolution\", \"respect\", \"restore\", \"restriction\", \"return\", \"return\", \"revelation\", \"review\", \"revolver\", \"reward\", \"ride\", \"rider\", \"right\", \"right\", \"right\", \"risk\", \"risk\", \"risk\", \"road\", \"road\", \"rod\", \"role\", \"roman\", \"route\", \"routine\", \"rsa\", \"rule\", \"run\", \"run\", \"run\", \"run\", \"s\", \"safety\", \"safety\", \"sale\", \"salesman\", \"satellite\", \"saturn\", \"say\", \"say\", \"say\", \"scale\", \"scale\", \"scare\", \"schedule\", \"schedule\", \"science\", \"score\", \"screen\", \"scsi\", \"season\", \"section\", \"secular\", \"secure\", \"security\", \"see\", \"see\", \"see\", \"sell\", \"sell\", \"sell\", \"sell\", \"send\", \"send\", \"send\", \"sense\", \"serial\", \"serious\", \"server\", \"service\", \"set\", \"set\", \"severe\", \"shaft\", \"shall\", \"sheet\", \"shock\", \"shoot\", \"shoot\", \"shuttle\", \"sight\", \"signal\", \"single\", \"sky\", \"small\", \"small\", \"smart\", \"society\", \"soft\", \"software\", \"solar\", \"soldier\", \"somehow\", \"son\", \"soul\", \"source\", \"source\", \"source\", \"space\", \"spacecraft\", \"speak\", \"spec\", \"specify\", \"speed\", \"speed\", \"speed\", \"sport\", \"sport\", \"spring\", \"ssf\", \"staff\", \"stamp\", \"standard\", \"standard\", \"star\", \"stat\", \"state\", \"state\", \"state\", \"state\", \"statement\", \"statistic\", \"status\", \"still\", \"still\", \"still\", \"still\", \"strip\", \"study\", \"stuff_delete\", \"stupid\", \"stupid\", \"submission\", \"subtly\", \"suck\", \"sue\", \"support\", \"support\", \"support\", \"sure\", \"survey\", \"suspension\", \"sustain\", \"switch\", \"system\", \"system\", \"table\", \"take\", \"take\", \"take\", \"tap\", \"tape\", \"task\", \"team\", \"technology\", \"television\", \"tell\", \"tell\", \"terminal\", \"test\", \"text\", \"text\", \"text\", \"text\", \"text\", \"thank\", \"thank\", \"thank\", \"thing\", \"thing\", \"think\", \"think\", \"thrust\", \"ticket\", \"tie\", \"tiff\", \"time\", \"time\", \"time\", \"timing\", \"tire\", \"topic\", \"topic\", \"tour\", \"town\", \"trace\", \"trade\", \"transfer\", \"travel\", \"treat\", \"treat\", \"treatment\", \"trick\", \"trip\", \"trip\", \"true\", \"trust\", \"truth\", \"try\", \"try\", \"try\", \"turbo\", \"turkish\", \"turn\", \"type\", \"type\", \"unique\", \"unit\", \"universe\", \"university\", \"unix\", \"unlikely\", \"up\", \"update\", \"upgrade\", \"usage\", \"use\", \"use\", \"use\", \"use\", \"user\", \"user\", \"user\", \"utility\", \"utilize\", \"variation\", \"various\", \"vehicle\", \"vehicle\", \"vendor\", \"version\", \"version\", \"video\", \"view\", \"view\", \"village\", \"violation\", \"violence\", \"vision\", \"volt\", \"voltage\", \"vote\", \"want\", \"war\", \"water\", \"wave\", \"way\", \"way\", \"way\", \"way\", \"weapon\", \"wear\", \"wear\", \"week\", \"well\", \"well\", \"well\", \"well\", \"western\", \"white\", \"whole\", \"whole\", \"widget\", \"will\", \"win\", \"window\", \"wing\", \"winter\", \"withdraw\", \"woman\", \"woman\", \"word\", \"work\", \"work\", \"work\", \"workstation\", \"world\", \"world\", \"world\", \"would\", \"would\", \"write\", \"year\", \"year\", \"year\", \"year\", \"yesterday\", \"young\"]}, \"R\": 30, \"lambda.step\": 0.01, \"plot.opts\": {\"xlab\": \"PC1\", \"ylab\": \"PC2\"}, \"topic.order\": [20, 18, 8, 7, 6, 10, 19, 2, 17, 9, 12, 14, 5, 13, 4, 15, 16, 11, 1, 3]};\n",
       "\n",
       "function LDAvis_load_lib(url, callback){\n",
       "  var s = document.createElement('script');\n",
       "  s.src = url;\n",
       "  s.async = true;\n",
       "  s.onreadystatechange = s.onload = callback;\n",
       "  s.onerror = function(){console.warn(\"failed to load library \" + url);};\n",
       "  document.getElementsByTagName(\"head\")[0].appendChild(s);\n",
       "}\n",
       "\n",
       "if(typeof(LDAvis) !== \"undefined\"){\n",
       "   // already loaded: just create the visualization\n",
       "   !function(LDAvis){\n",
       "       new LDAvis(\"#\" + \"ldavis_el703616231137712085352092776\", ldavis_el703616231137712085352092776_data);\n",
       "   }(LDAvis);\n",
       "}else if(typeof define === \"function\" && define.amd){\n",
       "   // require.js is available: use it to load d3/LDAvis\n",
       "   require.config({paths: {d3: \"https://cdnjs.cloudflare.com/ajax/libs/d3/3.5.5/d3.min\"}});\n",
       "   require([\"d3\"], function(d3){\n",
       "      window.d3 = d3;\n",
       "      LDAvis_load_lib(\"https://cdn.rawgit.com/bmabey/pyLDAvis/files/ldavis.v1.0.0.js\", function(){\n",
       "        new LDAvis(\"#\" + \"ldavis_el703616231137712085352092776\", ldavis_el703616231137712085352092776_data);\n",
       "      });\n",
       "    });\n",
       "}else{\n",
       "    // require.js not available: dynamically load d3 & LDAvis\n",
       "    LDAvis_load_lib(\"https://cdnjs.cloudflare.com/ajax/libs/d3/3.5.5/d3.min.js\", function(){\n",
       "         LDAvis_load_lib(\"https://cdn.rawgit.com/bmabey/pyLDAvis/files/ldavis.v1.0.0.js\", function(){\n",
       "                 new LDAvis(\"#\" + \"ldavis_el703616231137712085352092776\", ldavis_el703616231137712085352092776_data);\n",
       "            })\n",
       "         });\n",
       "}\n",
       "</script>"
      ],
      "text/plain": [
       "PreparedData(topic_coordinates=              x         y  topics  cluster       Freq\n",
       "topic                                                \n",
       "19     0.358063 -0.053274       1        1  35.991676\n",
       "17     0.309803  0.081294       2        1  20.078461\n",
       "7      0.334984 -0.174033       3        1  15.996056\n",
       "6      0.136899  0.319727       4        1   4.392677\n",
       "5      0.145842 -0.201388       5        1   4.197995\n",
       "9      0.077085  0.205802       6        1   3.528168\n",
       "18     0.052113  0.004541       7        1   2.235059\n",
       "1     -0.024043  0.019169       8        1   2.172892\n",
       "16     0.014538 -0.107590       9        1   2.114494\n",
       "8     -0.083173 -0.019946      10        1   1.322596\n",
       "11    -0.059051  0.110524      11        1   1.243613\n",
       "13    -0.093468  0.013550      12        1   1.197006\n",
       "4     -0.140575 -0.023678      13        1   1.120966\n",
       "12    -0.111024 -0.009167      14        1   1.108063\n",
       "3     -0.137837 -0.027478      15        1   0.775631\n",
       "14    -0.128114 -0.030090      16        1   0.732271\n",
       "15    -0.143517 -0.025561      17        1   0.684309\n",
       "10    -0.149002 -0.022706      18        1   0.604033\n",
       "0     -0.162945 -0.027623      19        1   0.413320\n",
       "2     -0.196581 -0.032077      20        1   0.090717, topic_info=        Term          Freq         Total Category  logprob  loglift\n",
       "174    would  16156.000000  16156.000000  Default  30.0000  30.0000\n",
       "19      line  15862.000000  15862.000000  Default  29.0000  29.0000\n",
       "197    write  13427.000000  13427.000000  Default  28.0000  28.0000\n",
       "3685      ax   2717.000000   2717.000000  Default  27.0000  27.0000\n",
       "40      year   4625.000000   4625.000000  Default  26.0000  26.0000\n",
       "...      ...           ...           ...      ...      ...      ...\n",
       "3949    item      0.019669      1.238909  Topic20 -10.8605   2.8622\n",
       "6920   frame      0.019669      1.238863  Topic20 -10.8605   2.8623\n",
       "5769  hockey      0.019669      1.238938  Topic20 -10.8605   2.8622\n",
       "3141  dollar      0.019669      1.238867  Topic20 -10.8605   2.8622\n",
       "3382     pin      0.019669      1.238984  Topic20 -10.8605   2.8622\n",
       "\n",
       "[836 rows x 6 columns], token_table=      Topic      Freq       Term\n",
       "term                            \n",
       "472      10  0.988999   absolute\n",
       "2857     19  0.946952   abstract\n",
       "1211      8  0.999274     accept\n",
       "853      11  0.995118   accident\n",
       "1014     17  0.986951   accuracy\n",
       "...     ...       ...        ...\n",
       "40        2  0.250545       year\n",
       "40        5  0.075445       year\n",
       "40        7  0.302643       year\n",
       "720       7  0.992506  yesterday\n",
       "570       3  0.997656      young\n",
       "\n",
       "[1001 rows x 3 columns], R=30, lambda_step=0.01, plot_opts={'xlab': 'PC1', 'ylab': 'PC2'}, topic_order=[20, 18, 8, 7, 6, 10, 19, 2, 17, 9, 12, 14, 5, 13, 4, 15, 16, 11, 1, 3])"
      ]
     },
     "execution_count": 30,
     "metadata": {},
     "output_type": "execute_result"
    }
   ],
   "source": [
    "# Visualize the topics\n",
    "pyLDAvis.enable_notebook()\n",
    "vis = pyLDAvis.gensim.prepare(lda_model, corpus, id2word)\n",
    "vis"
   ]
  },
  {
   "cell_type": "code",
   "execution_count": null,
   "metadata": {},
   "outputs": [],
   "source": []
  },
  {
   "cell_type": "code",
   "execution_count": null,
   "metadata": {},
   "outputs": [],
   "source": []
  }
 ],
 "metadata": {
  "kernelspec": {
   "display_name": "Python 3",
   "language": "python",
   "name": "python3"
  },
  "language_info": {
   "codemirror_mode": {
    "name": "ipython",
    "version": 3
   },
   "file_extension": ".py",
   "mimetype": "text/x-python",
   "name": "python",
   "nbconvert_exporter": "python",
   "pygments_lexer": "ipython3",
   "version": "3.7.6"
  }
 },
 "nbformat": 4,
 "nbformat_minor": 4
}
